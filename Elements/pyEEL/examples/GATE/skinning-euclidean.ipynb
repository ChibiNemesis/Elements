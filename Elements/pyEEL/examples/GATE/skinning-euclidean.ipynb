{
 "cells": [
  {
   "cell_type": "code",
   "execution_count": 16,
   "metadata": {},
   "outputs": [],
   "source": [
    "import sys\n",
    "# path to module files\n",
    "# sys.path.insert(1, '../python_files/') # insert at 1, 0 is the script path (or '' in REPL)\n",
    "sys.path.insert(1, './')\n",
    "# import math as math\n",
    "from skinning_euclidean import *\n",
    "from pyassimp import load\n"
   ]
  },
  {
   "cell_type": "code",
   "execution_count": 17,
   "metadata": {},
   "outputs": [],
   "source": [
    "# =================================================\n",
    "# LOADING INITIAL SCENE AND GENERATING TREE DATA\n",
    "# =================================================\n",
    "\n",
    "scene = load('./astroBoy_walk.dae')\n",
    "mesh_id = 3 # astroBoy contains many meshes, we choose the 4th one\n",
    "\n",
    "mesh = scene.meshes[mesh_id]\n",
    "v = mesh.vertices\n",
    "f = mesh.faces\n",
    "b = mesh.bones\n",
    "vw = vertex_weight(len(v))\n",
    "vw.populate(b)\n"
   ]
  },
  {
   "attachments": {},
   "cell_type": "markdown",
   "metadata": {},
   "source": [
    "## EUCLIDEAN WAY"
   ]
  },
  {
   "cell_type": "code",
   "execution_count": 19,
   "metadata": {
    "tags": []
   },
   "outputs": [
    {
     "name": "stdout",
     "output_type": "stream",
     "text": [
      "TIME :  0.08594703674316406\n",
      "TRANSFORMATION =  False\n"
     ]
    },
    {
     "data": {
      "application/vnd.jupyter.widget-view+json": {
       "model_id": "66baae1b2e0b4f868732c276ef199aa0",
       "version_major": 2,
       "version_minor": 0
      },
      "text/plain": [
       "Renderer(camera=PerspectiveCamera(children=(DirectionalLight(color='white', intensity=0.6, position=(0.3864668…"
      ]
     },
     "metadata": {},
     "output_type": "display_data"
    }
   ],
   "source": [
    "# =================================================\n",
    "# APPLYING EXTRA TRANSFORMATIONS IN JOINTS\n",
    "# =================================================\n",
    "\n",
    "transform = False  # True for applying extra transformations in joints\n",
    "\n",
    "M = initialize_M(b) # initialize M with identity matrices\n",
    "\n",
    "M[1][0:3,0:3] = eulerAnglesToRotationMatrix([0.3,0.3,0.4]) # apply rotation on the 2nd joint\n",
    "# M[1][0:3,3] = [5,5,5] # apply translation on the 2nd joint\n",
    "# M[1] = np.dot(np.diag([2,2,2,1]),M[1])  # apply scaling on the 2nd joint\n",
    "\n",
    "\n",
    "# =================================================\n",
    "# EVALUATING NEW VERTICES AFTER SKINNING\n",
    "# =================================================\n",
    "\n",
    "\n",
    "MM = read_tree(scene,mesh_id,M,transform)\n",
    "BB = [b[i].offsetmatrix for i in range(len(b))]\n",
    "newv = np.zeros([(len(v)),3])\n",
    "\n",
    "np.save('MM1.npy', np.array(MM, dtype=object), allow_pickle=True)\n",
    "np.save('BB.npy', np.array(BB, dtype=object), allow_pickle=True)\n",
    "\n",
    "start = time.time()\n",
    "for i in range(len(v)):\n",
    "    for j in range(4):\n",
    "        if vw.id[i][j] >=0:\n",
    "            mat = MM[vw.id[i][j]] @ BB[vw.id[i][j]]            \n",
    "            newv[i] = newv[i] + vw.weight[i][j]*(vertex_apply_M(v[i],mat))\n",
    "end = time.time()\n",
    "\n",
    "# =================================================\n",
    "# PLOTTING\n",
    "# =================================================\n",
    "\n",
    "\n",
    "# USING MESH PLOT OUTSIDE JUPYTER\n",
    "# mp.offline()\n",
    "\n",
    "print(\"TIME : \", end-start)\n",
    "print(\"TRANSFORMATION = \", transform)\n",
    "p = mp.plot(newv, f,newv[:, 1],shading={\"scale\": 2.5,\"wireframe\":True},return_plot=True)  \n",
    "# p.save(\"skinning.html\")\n",
    "\n"
   ]
  },
  {
   "cell_type": "code",
   "execution_count": 20,
   "metadata": {},
   "outputs": [
    {
     "name": "stdout",
     "output_type": "stream",
     "text": [
      "21\n",
      "21\n",
      "0 \n",
      " [[-2.24473494e-01  2.99201650e-02 -9.74020712e-01  2.19862373e-10]\n",
      " [ 2.86310336e-01  9.57438688e-01 -3.65724845e-02  8.00826998e+00]\n",
      " [ 9.31470809e-01 -2.87081729e-01 -2.23486037e-01 -3.66330986e-02]\n",
      " [ 0.00000000e+00  0.00000000e+00  0.00000000e+00  1.00000000e+00]]\n",
      "1 \n",
      " [[-0.28293441 -0.07966952 -0.95582466  0.03675992]\n",
      " [ 0.18683177  0.97287733 -0.13639509  9.18457917]\n",
      " [ 0.94076668 -0.21716924 -0.26037563 -0.38934172]\n",
      " [ 0.          0.          0.          1.        ]]\n",
      "2 \n",
      " [[-2.82282434e-01 -4.96073501e-02 -9.58047823e-01 -1.44016581e-01]\n",
      " [-1.46613426e-01  9.89161345e-01 -8.01971576e-03  1.13921156e+01]\n",
      " [ 9.48061745e-01  1.38198891e-01 -2.86495930e-01 -8.82116084e-01]\n",
      " [ 0.00000000e+00  0.00000000e+00  0.00000000e+00  1.00000000e+00]]\n",
      "3 \n",
      " [[-0.20668522  0.1257936  -0.97028714 -0.18131932]\n",
      " [-0.17332406  0.97130824  0.16284651 12.13592534]\n",
      " [ 0.96293301  0.2018321  -0.17895196 -0.77819605]\n",
      " [ 0.          0.          0.          1.        ]]\n",
      "4 \n",
      " [[-2.53697161e-01  9.58218642e-01 -1.32116169e-01  6.86488810e-01]\n",
      " [-1.42255097e-03  1.36214959e-01  9.90678297e-01  1.07673859e+01]\n",
      " [ 9.67282506e-01  2.51520198e-01 -3.31941986e-02 -5.87743576e-01]\n",
      " [ 0.00000000e+00  0.00000000e+00  0.00000000e+00  1.00000000e+00]]\n",
      "5 \n",
      " [[-0.68568643  0.52951347  0.49944934  0.90515047]\n",
      " [ 0.09505194 -0.61514201  0.78266566 10.79846959]\n",
      " [ 0.72166408  0.5841367   0.37146324 -0.53034767]\n",
      " [ 0.          0.          0.          1.        ]]\n",
      "6 \n",
      " [[-0.68568643  0.52951347  0.49944934  1.65576757]\n",
      " [ 0.09505194 -0.61514201  0.78266566  9.9264689 ]\n",
      " [ 0.72166408  0.5841367   0.37146324  0.29770114]\n",
      " [ 0.          0.          0.          1.        ]]\n",
      "7 \n",
      " [[-0.57377766 -0.6491069   0.49943915  2.31955505]\n",
      " [ 0.62007141  0.05410021  0.78267791  9.1553392 ]\n",
      " [-0.53506126  0.75877083  0.37145114  1.02996322]\n",
      " [ 0.          0.          0.          1.        ]]\n",
      "8 \n",
      " [[-0.57377766 -0.6491069   0.49943915  1.54006303]\n",
      " [ 0.62007141  0.05410021  0.78267791  9.22028665]\n",
      " [-0.53506126  0.75877083  0.37145114  1.94112426]\n",
      " [ 0.          0.          0.          1.        ]]\n",
      "9 \n",
      " [[ 2.71233304e-01  9.53350225e-01  1.32498100e-01 -8.14636879e-01]\n",
      " [ 3.91761759e-03  1.36563803e-01 -9.90623589e-01  1.05531258e+01]\n",
      " [-9.62505563e-01  2.69209149e-01  3.33057545e-02 -9.96663737e-01]\n",
      " [ 0.00000000e+00  0.00000000e+00  0.00000000e+00  1.00000000e+00]]\n",
      "10 \n",
      " [[ 0.24265086  0.03726503  0.96939766 -1.03219259]\n",
      " [ 0.89347066  0.38070055 -0.2382802  10.52200716]\n",
      " [-0.37792965  0.92394712  0.05908205 -1.05809742]\n",
      " [ 0.          0.          0.          1.        ]]\n",
      "11 \n",
      " [[ 0.24265086  0.03726503  0.96939766 -1.08501801]\n",
      " [ 0.89347066  0.38070055 -0.2382802   9.9823413 ]\n",
      " [-0.37792965  0.92394712  0.05908205 -2.36784789]\n",
      " [ 0.          0.          0.          1.        ]]\n",
      "12 \n",
      " [[-0.13973828  0.20184909  0.96939678 -1.1317327 ]\n",
      " [-0.73338428  0.63668383 -0.23828833  9.50510272]\n",
      " [-0.66529745 -0.74423822  0.05906379 -3.5260895 ]\n",
      " [ 0.          0.          0.          1.        ]]\n",
      "13 \n",
      " [[-0.13973828  0.20184909  0.96939678 -1.37409991]\n",
      " [-0.73338428  0.63668383 -0.23828833  8.74053521]\n",
      " [-0.66529745 -0.74423822  0.05906379 -2.63236961]\n",
      " [ 0.          0.          0.          1.        ]]\n",
      "14 \n",
      " [[ 9.99783790e-01  1.87910121e-10  2.07938842e-02  1.66341585e-02]\n",
      " [ 1.92601386e-03  9.95701075e-01 -9.26040707e-02  6.53824511e+00]\n",
      " [-2.07044932e-02  9.26240925e-02  9.95485731e-01 -3.82499260e-01]\n",
      " [ 0.00000000e+00  0.00000000e+00  0.00000000e+00  1.00000000e+00]]\n",
      "15 \n",
      " [[ 1.23853846e-03 -3.71324606e-03  9.99992365e-01  8.92198740e-01]\n",
      " [-2.25934349e-01 -9.74136719e-01 -3.33740735e-03  6.34853696e+00]\n",
      " [ 9.74141523e-01 -2.25928440e-01 -2.04546026e-03 -1.29275345e-01]\n",
      " [ 0.00000000e+00  0.00000000e+00  0.00000000e+00  1.00000000e+00]]\n",
      "16 \n",
      " [[ 3.45789469e-04 -3.89904235e-03 -9.99992365e-01  8.82743330e-01]\n",
      " [ 5.95809534e-01 -8.03118687e-01  3.33744500e-03  3.86799515e+00]\n",
      " [-8.03125449e-01 -5.95806033e-01  2.04538136e-03 -7.04579541e-01]\n",
      " [ 0.00000000e+00  0.00000000e+00  0.00000000e+00  1.00000000e+00]]\n",
      "17 \n",
      " [[ 1.02150477e-03 -3.77870723e-03 -9.99992365e-01  8.80797614e-01]\n",
      " [ 7.26928236e-01 -6.86705091e-01  3.33744500e-03  3.46721965e+00]\n",
      " [-6.86712361e-01 -7.26925970e-01  2.04538136e-03 -1.00190105e+00]\n",
      " [ 0.00000000e+00  0.00000000e+00  0.00000000e+00  1.00000000e+00]]\n",
      "18 \n",
      " [[ 0.29855249  0.0087596   0.95435299 -0.84695918]\n",
      " [-0.54390925  0.82324064  0.16259622  6.34518858]\n",
      " [-0.78423773 -0.56762481  0.25054492 -0.09325899]\n",
      " [ 0.          0.          0.          1.        ]]\n",
      "19 \n",
      " [[-0.29166423 -0.06436081 -0.95435299 -0.86926461]\n",
      " [ 0.32657105  0.93108205 -0.1625963   4.24888856]\n",
      " [ 0.89904558 -0.35908751 -0.25054489  1.35214086]\n",
      " [ 0.          0.          0.          1.        ]]\n",
      "20 \n",
      " [[-0.29086285 -0.06789085 -0.95435296 -0.83714689]\n",
      " [ 0.31526377  0.93497112 -0.16259655  3.78425441]\n",
      " [ 0.9033311  -0.34816614 -0.25054481  1.53133487]\n",
      " [ 0.          0.          0.          1.        ]]\n"
     ]
    }
   ],
   "source": [
    "print(len(MM))\n",
    "print(len(b))\n",
    "\n",
    "for i in range(len(MM)):\n",
    "    print (i,\"\\n\" ,MM[i])"
   ]
  },
  {
   "cell_type": "code",
   "execution_count": 21,
   "metadata": {},
   "outputs": [
    {
     "name": "stdout",
     "output_type": "stream",
     "text": [
      "TIME :  0.07800602912902832\n",
      "TRANSFORMATION =  False\n"
     ]
    },
    {
     "data": {
      "application/vnd.jupyter.widget-view+json": {
       "model_id": "8d697c19ecbe4170af0cc1dda4647c01",
       "version_major": 2,
       "version_minor": 0
      },
      "text/plain": [
       "Renderer(camera=PerspectiveCamera(children=(DirectionalLight(color='white', intensity=0.6, position=(0.3864668…"
      ]
     },
     "metadata": {},
     "output_type": "display_data"
    }
   ],
   "source": [
    "# =================================================\n",
    "# APPLYING EXTRA TRANSFORMATIONS IN JOINTS\n",
    "# =================================================\n",
    "\n",
    "transform = False  \n",
    "# transform = True\n",
    "\n",
    "M = initialize_M(b)\n",
    "\n",
    "M[1][0:3,0:3] = eulerAnglesToRotationMatrix([0.3,0.3,0.4])\n",
    "# M[1][0:3,3] = [5,5,5]\n",
    "# M[1] = np.dot(np.diag([2,2,2,1]),M[1])\n",
    "\n",
    "\n",
    "# =================================================\n",
    "# EVALUATING NEW VERTICES AFTER SKINNING\n",
    "# =================================================\n",
    "\n",
    "\n",
    "MM2 = read_tree(scene,mesh_id,M,transform)\n",
    "BB = [b[i].offsetmatrix for i in range(len(b))]\n",
    "newv = np.zeros([(len(v)),3])\n",
    "\n",
    "np.save('MM2.npy', np.array(MM2, dtype=object), allow_pickle=True)\n",
    "\n",
    "start = time.time()\n",
    "for i in range(len(v)):\n",
    "    for j in range(4):\n",
    "        if vw.id[i][j] >=0:\n",
    "            mat = MM2[vw.id[i][j]] @ BB[vw.id[i][j]]            \n",
    "            newv[i] = newv[i] + vw.weight[i][j]*(vertex_apply_M(v[i],mat))\n",
    "end = time.time()\n",
    "\n",
    "# =================================================\n",
    "# PLOTTING\n",
    "# =================================================\n",
    "\n",
    "\n",
    "# USING MESH PLOT OUTSIDE JUPYTER\n",
    "# mp.offline()\n",
    "\n",
    "print(\"TIME : \", end-start)\n",
    "print(\"TRANSFORMATION = \", transform)\n",
    "p = mp.plot(newv, f,newv[:, 1],shading={\"scale\": 2.5,\"wireframe\":True},return_plot=True)  \n",
    "# p.save(\"skinning.html\")\n",
    "\n"
   ]
  },
  {
   "cell_type": "code",
   "execution_count": 22,
   "metadata": {},
   "outputs": [
    {
     "name": "stdout",
     "output_type": "stream",
     "text": [
      "TIME :  0.12968921661376953\n",
      "TRANSFORMATION =  False\n"
     ]
    },
    {
     "data": {
      "application/vnd.jupyter.widget-view+json": {
       "model_id": "c6081d8647df47798286ac5bdeee4690",
       "version_major": 2,
       "version_minor": 0
      },
      "text/plain": [
       "Renderer(camera=PerspectiveCamera(children=(DirectionalLight(color='white', intensity=0.6, position=(0.3864668…"
      ]
     },
     "metadata": {},
     "output_type": "display_data"
    }
   ],
   "source": [
    "# =================================================\n",
    "# APPLYING EXTRA TRANSFORMATIONS IN JOINTS\n",
    "# =================================================\n",
    "\n",
    "MM3 = np.load('MM2.npy', allow_pickle=True)\n",
    "# BB = np.load('BB.npy', allow_pickle=True)\n",
    "newv = np.zeros([(len(v)),3])\n",
    "\n",
    "np.save('MM1.npy', np.array(MM, dtype=object), allow_pickle=True)\n",
    "np.save('BB.npy', np.array(BB, dtype=object), allow_pickle=True)\n",
    "\n",
    "start = time.time()\n",
    "for i in range(len(v)):\n",
    "    for j in range(4):\n",
    "        if vw.id[i][j] >=0:\n",
    "            mat = MM3[vw.id[i][j]] @ BB[vw.id[i][j]]            \n",
    "            newv[i] = newv[i] + vw.weight[i][j]*(vertex_apply_M(v[i],mat))\n",
    "end = time.time()\n",
    "\n",
    "# =================================================\n",
    "# PLOTTING\n",
    "# =================================================\n",
    "\n",
    "\n",
    "# USING MESH PLOT OUTSIDE JUPYTER\n",
    "# mp.offline()\n",
    "\n",
    "print(\"TIME : \", end-start)\n",
    "print(\"TRANSFORMATION = \", transform)\n",
    "p = mp.plot(newv, f,newv[:, 1],shading={\"scale\": 2.5,\"wireframe\":True},return_plot=True)  \n",
    "# p.save(\"skinning.html\")\n",
    "\n"
   ]
  }
 ],
 "metadata": {
  "kernelspec": {
   "display_name": "elements",
   "language": "python",
   "name": "python3"
  },
  "language_info": {
   "codemirror_mode": {
    "name": "ipython",
    "version": 3
   },
   "file_extension": ".py",
   "mimetype": "text/x-python",
   "name": "python",
   "nbconvert_exporter": "python",
   "pygments_lexer": "ipython3",
   "version": "3.8.16"
  }
 },
 "nbformat": 4,
 "nbformat_minor": 2
}
