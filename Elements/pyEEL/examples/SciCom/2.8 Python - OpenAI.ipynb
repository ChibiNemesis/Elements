{
 "cells": [
  {
   "cell_type": "markdown",
   "metadata": {},
   "source": [
    "# Python: Using other python packages - OpenAI example"
   ]
  },
  {
   "cell_type": "markdown",
   "metadata": {},
   "source": [
    "### *Copyright 2021-today Dr. George Papagiannakis,  papagian@csd.uoc.gr*\n",
    "*All Rights Reserved*\n",
    "### *University of Crete & Foundation for Research & Technology - Hellas (FORTH)*"
   ]
  },
  {
   "cell_type": "markdown",
   "metadata": {},
   "source": [
    "### example OpenAI script"
   ]
  },
  {
   "cell_type": "code",
   "execution_count": 2,
   "metadata": {},
   "outputs": [
    {
     "ename": "ModuleNotFoundError",
     "evalue": "No module named 'aiohttp'",
     "output_type": "error",
     "traceback": [
      "\u001b[0;31m---------------------------------------------------------------------------\u001b[0m",
      "\u001b[0;31mModuleNotFoundError\u001b[0m                       Traceback (most recent call last)",
      "Cell \u001b[0;32mIn[2], line 4\u001b[0m\n\u001b[1;32m      1\u001b[0m \u001b[39m#general imports\u001b[39;00m\n\u001b[1;32m      2\u001b[0m \u001b[39m# import openai and dependencies\u001b[39;00m\n\u001b[1;32m      3\u001b[0m \u001b[39mimport\u001b[39;00m \u001b[39mos\u001b[39;00m\n\u001b[0;32m----> 4\u001b[0m \u001b[39mimport\u001b[39;00m \u001b[39mopenai\u001b[39;00m\n\u001b[1;32m      5\u001b[0m openai\u001b[39m.\u001b[39mapi_key \u001b[39m=\u001b[39m os\u001b[39m.\u001b[39mgetenv(\u001b[39m\"\u001b[39m\u001b[39mOPENAI_API_KEY\u001b[39m\u001b[39m\"\u001b[39m)\n\u001b[1;32m      6\u001b[0m openai\u001b[39m.\u001b[39mModel\u001b[39m.\u001b[39mlist()\n",
      "File \u001b[0;32m~/opt/anaconda3/envs/Elements38/lib/python3.8/site-packages/openai/__init__.py:19\u001b[0m\n\u001b[1;32m     15\u001b[0m     \u001b[39mimport\u001b[39;00m \u001b[39maiohttp\u001b[39;00m\n\u001b[1;32m     17\u001b[0m     \u001b[39mdel\u001b[39;00m sys\u001b[39m.\u001b[39mmodules[\u001b[39m\"\u001b[39m\u001b[39mpkg_resources\u001b[39m\u001b[39m\"\u001b[39m]\n\u001b[0;32m---> 19\u001b[0m \u001b[39mfrom\u001b[39;00m \u001b[39mopenai\u001b[39;00m\u001b[39m.\u001b[39;00m\u001b[39mapi_resources\u001b[39;00m \u001b[39mimport\u001b[39;00m (\n\u001b[1;32m     20\u001b[0m     Audio,\n\u001b[1;32m     21\u001b[0m     ChatCompletion,\n\u001b[1;32m     22\u001b[0m     Completion,\n\u001b[1;32m     23\u001b[0m     Customer,\n\u001b[1;32m     24\u001b[0m     Deployment,\n\u001b[1;32m     25\u001b[0m     Edit,\n\u001b[1;32m     26\u001b[0m     Embedding,\n\u001b[1;32m     27\u001b[0m     Engine,\n\u001b[1;32m     28\u001b[0m     ErrorObject,\n\u001b[1;32m     29\u001b[0m     File,\n\u001b[1;32m     30\u001b[0m     FineTune,\n\u001b[1;32m     31\u001b[0m     Image,\n\u001b[1;32m     32\u001b[0m     Model,\n\u001b[1;32m     33\u001b[0m     Moderation,\n\u001b[1;32m     34\u001b[0m )\n\u001b[1;32m     35\u001b[0m \u001b[39mfrom\u001b[39;00m \u001b[39mopenai\u001b[39;00m\u001b[39m.\u001b[39;00m\u001b[39merror\u001b[39;00m \u001b[39mimport\u001b[39;00m APIError, InvalidRequestError, OpenAIError\n\u001b[1;32m     36\u001b[0m \u001b[39mfrom\u001b[39;00m \u001b[39mopenai\u001b[39;00m\u001b[39m.\u001b[39;00m\u001b[39mversion\u001b[39;00m \u001b[39mimport\u001b[39;00m VERSION\n",
      "File \u001b[0;32m~/opt/anaconda3/envs/Elements38/lib/python3.8/site-packages/openai/api_resources/__init__.py:1\u001b[0m\n\u001b[0;32m----> 1\u001b[0m \u001b[39mfrom\u001b[39;00m \u001b[39mopenai\u001b[39;00m\u001b[39m.\u001b[39;00m\u001b[39mapi_resources\u001b[39;00m\u001b[39m.\u001b[39;00m\u001b[39maudio\u001b[39;00m \u001b[39mimport\u001b[39;00m Audio  \u001b[39m# noqa: F401\u001b[39;00m\n\u001b[1;32m      2\u001b[0m \u001b[39mfrom\u001b[39;00m \u001b[39mopenai\u001b[39;00m\u001b[39m.\u001b[39;00m\u001b[39mapi_resources\u001b[39;00m\u001b[39m.\u001b[39;00m\u001b[39mchat_completion\u001b[39;00m \u001b[39mimport\u001b[39;00m ChatCompletion  \u001b[39m# noqa: F401\u001b[39;00m\n\u001b[1;32m      3\u001b[0m \u001b[39mfrom\u001b[39;00m \u001b[39mopenai\u001b[39;00m\u001b[39m.\u001b[39;00m\u001b[39mapi_resources\u001b[39;00m\u001b[39m.\u001b[39;00m\u001b[39mcompletion\u001b[39;00m \u001b[39mimport\u001b[39;00m Completion  \u001b[39m# noqa: F401\u001b[39;00m\n",
      "File \u001b[0;32m~/opt/anaconda3/envs/Elements38/lib/python3.8/site-packages/openai/api_resources/audio.py:4\u001b[0m\n\u001b[1;32m      1\u001b[0m \u001b[39mfrom\u001b[39;00m \u001b[39mtyping\u001b[39;00m \u001b[39mimport\u001b[39;00m Any, List\n\u001b[1;32m      3\u001b[0m \u001b[39mimport\u001b[39;00m \u001b[39mopenai\u001b[39;00m\n\u001b[0;32m----> 4\u001b[0m \u001b[39mfrom\u001b[39;00m \u001b[39mopenai\u001b[39;00m \u001b[39mimport\u001b[39;00m api_requestor, util\n\u001b[1;32m      5\u001b[0m \u001b[39mfrom\u001b[39;00m \u001b[39mopenai\u001b[39;00m\u001b[39m.\u001b[39;00m\u001b[39mapi_resources\u001b[39;00m\u001b[39m.\u001b[39;00m\u001b[39mabstract\u001b[39;00m \u001b[39mimport\u001b[39;00m APIResource\n\u001b[1;32m      8\u001b[0m \u001b[39mclass\u001b[39;00m \u001b[39mAudio\u001b[39;00m(APIResource):\n",
      "File \u001b[0;32m~/opt/anaconda3/envs/Elements38/lib/python3.8/site-packages/openai/api_requestor.py:24\u001b[0m\n\u001b[1;32m     11\u001b[0m \u001b[39mfrom\u001b[39;00m \u001b[39mtyping\u001b[39;00m \u001b[39mimport\u001b[39;00m (\n\u001b[1;32m     12\u001b[0m     AsyncGenerator,\n\u001b[1;32m     13\u001b[0m     AsyncIterator,\n\u001b[0;32m   (...)\u001b[0m\n\u001b[1;32m     20\u001b[0m     overload,\n\u001b[1;32m     21\u001b[0m )\n\u001b[1;32m     22\u001b[0m \u001b[39mfrom\u001b[39;00m \u001b[39murllib\u001b[39;00m\u001b[39m.\u001b[39;00m\u001b[39mparse\u001b[39;00m \u001b[39mimport\u001b[39;00m urlencode, urlsplit, urlunsplit\n\u001b[0;32m---> 24\u001b[0m \u001b[39mimport\u001b[39;00m \u001b[39maiohttp\u001b[39;00m\n\u001b[1;32m     25\u001b[0m \u001b[39mimport\u001b[39;00m \u001b[39mrequests\u001b[39;00m\n\u001b[1;32m     27\u001b[0m \u001b[39mif\u001b[39;00m sys\u001b[39m.\u001b[39mversion_info \u001b[39m>\u001b[39m\u001b[39m=\u001b[39m (\u001b[39m3\u001b[39m, \u001b[39m8\u001b[39m):\n",
      "\u001b[0;31mModuleNotFoundError\u001b[0m: No module named 'aiohttp'"
     ]
    }
   ],
   "source": [
    "#general imports\n",
    "# import openai and dependencies\n",
    "import os\n",
    "import openai\n",
    "openai.api_key = os.getenv(\"OPENAI_API_KEY\")\n",
    "openai.Model.list()"
   ]
  },
  {
   "cell_type": "code",
   "execution_count": null,
   "metadata": {},
   "outputs": [],
   "source": [
    "# ask ChatGPT via its API and get a response\n",
    "response = openai.ChatCompletion.create(\n",
    "    model = \"gpt-3.5-turbo\",\n",
    "    messages=[\n",
    "        {\"role\":\"system\", \"content\": \"You are a helpful assistant.\"},\n",
    "        {\"role\":\"user\", \"content\": \"Can you say 80 words to inspire the audience of ACM SIGGRAPH 2023 about computational medical extended reality?\"},\n",
    "        ] \n",
    "    )\n",
    "print(response[\"choices\"][0][\"message\"][\"content\"])"
   ]
  },
  {
   "cell_type": "code",
   "execution_count": null,
   "metadata": {},
   "outputs": [],
   "source": [
    "# example with a system message\n",
    "MODEL = \"gpt-3.5-turbo\"\n",
    "# MODEL = \"gpt-4\"\n",
    "response = openai.ChatCompletion.create(\n",
    "    model=MODEL,\n",
    "    messages=[\n",
    "        {\"role\": \"system\", \"content\": \"You are a helpful assistant.\"},\n",
    "        {\"role\": \"user\", \"content\": \"Explain computational medical extended reality in the style of Yoda from Star Wars.\"},\n",
    "    ],\n",
    "    temperature=0,\n",
    ")\n",
    "\n",
    "print(response['choices'][0]['message']['content'])"
   ]
  },
  {
   "cell_type": "code",
   "execution_count": null,
   "metadata": {},
   "outputs": [],
   "source": []
  }
 ],
 "metadata": {
  "kernelspec": {
   "display_name": "Python 3 (ipykernel)",
   "language": "python",
   "name": "python3"
  },
  "language_info": {
   "codemirror_mode": {
    "name": "ipython",
    "version": 3
   },
   "file_extension": ".py",
   "mimetype": "text/x-python",
   "name": "python",
   "nbconvert_exporter": "python",
   "pygments_lexer": "ipython3",
   "version": "3.8.15"
  }
 },
 "nbformat": 4,
 "nbformat_minor": 2
}
