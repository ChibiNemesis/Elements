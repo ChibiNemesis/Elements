{
 "cells": [
  {
   "cell_type": "markdown",
   "metadata": {},
   "source": [
    "# Python: Using other python packages - OpenAI example"
   ]
  },
  {
   "cell_type": "markdown",
   "metadata": {},
   "source": [
    "### *Copyright 2021-today Dr. George Papagiannakis,  papagian@csd.uoc.gr*\n",
    "*All Rights Reserved*\n",
    "### *University of Crete & Foundation for Research & Technology - Hellas (FORTH)*"
   ]
  },
  {
   "cell_type": "markdown",
   "metadata": {},
   "source": [
    "### example OpenAI script"
   ]
  },
  {
   "cell_type": "code",
   "execution_count": null,
   "metadata": {},
   "outputs": [],
   "source": [
    "#general imports\n",
    "# import openai and dependencies\n",
    "import os\n",
    "import openai\n",
    "openai.api_key = os.getenv(\"OPENAI_API_KEY\")\n",
    "openai.Model.list()"
   ]
  },
  {
   "cell_type": "code",
   "execution_count": null,
   "metadata": {},
   "outputs": [],
   "source": [
    "import textwrap\n",
    "# ask ChatGPT via its API and get a response\n",
    "response = openai.ChatCompletion.create(\n",
    "    model = \"gpt-3.5-turbo\",\n",
    "    messages=[\n",
    "        {\"role\":\"system\", \"content\": \"You are a helpful assistant.\"},\n",
    "        {\"role\":\"user\", \"content\": \"Can you say 80 words to inspire the audience of ACM SIGGRAPH 2023 about computational medical extended reality?\"},\n",
    "        ] \n",
    "    )\n",
    "chatReply = response['choices'][0]['message']['content']\n",
    "print(textwrap.fill(chatReply, width=100))"
   ]
  },
  {
   "cell_type": "code",
   "execution_count": null,
   "metadata": {},
   "outputs": [],
   "source": [
    "import textwrap\n",
    "\n",
    "# example with a system message\n",
    "MODEL = \"gpt-3.5-turbo\"\n",
    "response = openai.ChatCompletion.create(\n",
    "    model=MODEL,\n",
    "    messages=[\n",
    "        {\"role\": \"system\", \"content\": \"You are a helpful assistant.\"},\n",
    "        {\"role\": \"user\", \"content\": \"Explain computational medical extended reality in the style of Yoda from Star Wars.\"},\n",
    "    ],\n",
    "    temperature=0,\n",
    ")\n",
    "chatReply = response['choices'][0]['message']['content']\n",
    "print(textwrap.fill(chatReply, width=100))"
   ]
  },
  {
   "cell_type": "markdown",
   "metadata": {},
   "source": [
    "## example of embedchain script\n",
    "`pip install embedchain` to install the python package\n"
   ]
  },
  {
   "cell_type": "code",
   "execution_count": null,
   "metadata": {},
   "outputs": [],
   "source": [
    "# test example\n",
    "import os\n",
    "\n",
    "from embedchain import App\n",
    "\n",
    "#os.environ[\"OPENAI_API_KEY\"] = \"xxx\"\n",
    "import openai\n",
    "openai.api_key = os.getenv(\"OPENAI_API_KEY\")\n",
    "elon_musk_bot = App()\n",
    "\n",
    "# Embed Online Resources\n",
    "elon_musk_bot.add(\"https://en.wikipedia.org/wiki/Elon_Musk\")\n",
    "elon_musk_bot.add(\"https://www.tesla.com/elon-musk\")\n",
    "\n",
    "response = elon_musk_bot.query(\"How many companies does Elon Musk run?\")\n",
    "print(response)"
   ]
  },
  {
   "cell_type": "markdown",
   "metadata": {},
   "source": [
    "### use `enmbedchain`` on the Elemeents project"
   ]
  },
  {
   "cell_type": "code",
   "execution_count": 7,
   "metadata": {},
   "outputs": [
    {
     "name": "stdout",
     "output_type": "stream",
     "text": [
      "All data from https://elementsproject.readthedocs.io/en/latest/index.html already exists in the database.\n",
      "All data from https://arxiv.org/pdf/2302.07691.pdf already exists in the database.\n",
      "To create a system for 3D character animation using pyECSS and pyGLV, you can follow these steps:\n",
      "\n",
      "1. Import the necessary packages:\n",
      "```python\n",
      "from pyECSS import System\n",
      "from pyGLV import RenderMesh, BasicTransform\n",
      "```\n",
      "\n",
      "2. Create a new class for your animation system that inherits from the `System` class:\n",
      "```python\n",
      "class CharacterAnimationSystem(System):\n",
      "    def __init__(self):\n",
      "        super().__init__()\n",
      "```\n",
      "\n",
      "3. Implement the `update` method in your system class. This method will be called every frame to update the character's animation:\n",
      "```python\n",
      "    def update(self, dt):\n",
      "        # Get all entities with the required components\n",
      "        entities = self.get_entities_with_components(RenderMesh, BasicTransform)\n",
      "\n",
      "        # Update the animation for each entity\n",
      "        for entity in entities:\n",
      "            render_mesh = entity.get_component(RenderMesh)\n",
      "            transform = entity.get_component(BasicTransform)\n",
      "\n",
      "            # Perform animation calculations and update the render mesh and transform properties accordingly\n",
      "            # Example:\n",
      "            render_mesh.animation_frame += 1\n",
      "            transform.rotation += 0.1\n",
      "```\n",
      "\n",
      "4. Create an instance of your animation system and add it to your pyECSS scenegraph:\n",
      "```python\n",
      "animation_system = CharacterAnimationSystem()\n",
      "scene.add_system(animation_system)\n",
      "```\n",
      "\n",
      "5. Run your pyECSS scenegraph update loop to continuously update the animation:\n",
      "```python\n",
      "while True:\n",
      "    dt = # calculate the time since the last frame\n",
      "    scene.update(dt)\n",
      "```\n",
      "\n",
      "Note: The code example provided is a basic implementation to give you an idea of how to create a system for 3D character animation using pyECSS and pyGLV. You will need to customize it according to your specific requirements and the structure of your character animation data.\n"
     ]
    }
   ],
   "source": [
    "import os\n",
    "\n",
    "from embedchain import App\n",
    "import openai\n",
    "openai.api_key = os.getenv(\"OPENAI_API_KEY\")\n",
    "elements_copilot = App()\n",
    "\n",
    "# Embed Online Resources\n",
    "elements_copilot.add(\"https://elementsproject.readthedocs.io/en/latest/index.html\")\n",
    "elements_copilot.add(\"https://arxiv.org/pdf/2302.07691.pdf\")\n",
    "\n",
    "response = elements_copilot.query(\"how can I create a system for 3D character animation using pyECSS and pyGLV? please provide a code example\")\n",
    "print(response)"
   ]
  }
 ],
 "metadata": {
  "kernelspec": {
   "display_name": "Python 3 (ipykernel)",
   "language": "python",
   "name": "python3"
  },
  "language_info": {
   "codemirror_mode": {
    "name": "ipython",
    "version": 3
   },
   "file_extension": ".py",
   "mimetype": "text/x-python",
   "name": "python",
   "nbconvert_exporter": "python",
   "pygments_lexer": "ipython3",
   "version": "3.8.15"
  }
 },
 "nbformat": 4,
 "nbformat_minor": 2
}
