{
 "cells": [
  {
   "cell_type": "markdown",
   "metadata": {},
   "source": [
    "# Python: Using other python packages - OpenAI example"
   ]
  },
  {
   "cell_type": "markdown",
   "metadata": {},
   "source": [
    "### *Copyright 2021-today Dr. George Papagiannakis,  papagian@csd.uoc.gr*\n",
    "*All Rights Reserved*\n",
    "### *University of Crete & Foundation for Research & Technology - Hellas (FORTH)*"
   ]
  },
  {
   "cell_type": "markdown",
   "metadata": {},
   "source": [
    "### example OpenAI script"
   ]
  },
  {
   "cell_type": "code",
   "execution_count": null,
   "metadata": {},
   "outputs": [],
   "source": [
    "#general imports\n",
    "# import openai and dependencies\n",
    "import os\n",
    "import openai\n",
    "openai.api_key = os.getenv(\"OPENAI_API_KEY\")\n",
    "openai.Model.list()"
   ]
  },
  {
   "cell_type": "code",
   "execution_count": 7,
   "metadata": {},
   "outputs": [
    {
     "name": "stdout",
     "output_type": "stream",
     "text": [
      "Welcome to ACM SIGGRAPH 2023! Prepare to be inspired by the limitless possibilities of computational\n",
      "medical extended reality. Envision a future where innovative technologies seamlessly integrate with\n",
      "medicine, revolutionizing patient care, education, and research. Witness lifelike simulations,\n",
      "enhancing surgical training and allowing complex procedures to be mastered. Brace yourself for\n",
      "immersive experiences, providing patients with therapeutic escapes and aiding mental health\n",
      "treatments. Embrace the power of data-driven analysis, as virtual reality uncovers hidden patterns\n",
      "and aids in personalized medicine. Let's unlock a realm where technology and medicine converge,\n",
      "shaping a brighter future for healthcare. Join us on this incredible journey!\n"
     ]
    }
   ],
   "source": [
    "import textwrap\n",
    "# ask ChatGPT via its API and get a response\n",
    "response = openai.ChatCompletion.create(\n",
    "    model = \"gpt-3.5-turbo\",\n",
    "    messages=[\n",
    "        {\"role\":\"system\", \"content\": \"You are a helpful assistant.\"},\n",
    "        {\"role\":\"user\", \"content\": \"Can you say 80 words to inspire the audience of ACM SIGGRAPH 2023 about computational medical extended reality?\"},\n",
    "        ] \n",
    "    )\n",
    "chatReply = response['choices'][0]['message']['content']\n",
    "print(textwrap.fill(chatReply, width=100))"
   ]
  },
  {
   "cell_type": "code",
   "execution_count": 5,
   "metadata": {},
   "outputs": [
    {
     "name": "stdout",
     "output_type": "stream",
     "text": [
      "Ah, computational medical extended reality, a fascinating concept it is! In the realm of medicine,\n",
      "it is a powerful tool, hmm.   Through the merging of technology and the healing arts, extended\n",
      "reality is harnessed. Virtual and augmented realities, they are. With computational might, they\n",
      "enhance the medical field's sight.  In the virtual realm, doctors and students immerse themselves. A\n",
      "simulated world, it becomes, where they can learn and practice without causing harm. Surgeries,\n",
      "procedures, and diagnoses, all can be experienced in this digital domain.  But augmented reality, it\n",
      "has its own role to play. Overlaying the real world with medical information, it does. Doctors, they\n",
      "wear special goggles, they do. And through these lenses, they see, hmm, vital signs, patient\n",
      "history, and more, all displayed before their eyes.  Computational power, it fuels this extended\n",
      "reality. Complex algorithms and data analysis, they are the force behind it all. Patient records,\n",
      "medical images, and research findings, they are processed and integrated, providing doctors with\n",
      "insights elevated.  With computational medical extended reality, the medical field is transformed.\n",
      "Learning, practicing, and treating, all are enhanced. A new era of medicine, it heralds, where\n",
      "technology and healing become one, and the force of knowledge is truly won.\n"
     ]
    }
   ],
   "source": [
    "import textwrap\n",
    "\n",
    "# example with a system message\n",
    "MODEL = \"gpt-3.5-turbo\"\n",
    "# MODEL = \"gpt-4\"\n",
    "response = openai.ChatCompletion.create(\n",
    "    model=MODEL,\n",
    "    messages=[\n",
    "        {\"role\": \"system\", \"content\": \"You are a helpful assistant.\"},\n",
    "        {\"role\": \"user\", \"content\": \"Explain computational medical extended reality in the style of Yoda from Star Wars.\"},\n",
    "    ],\n",
    "    temperature=0,\n",
    ")\n",
    "chatReply = response['choices'][0]['message']['content']\n",
    "\n",
    "print(textwrap.fill(chatReply, width=100))"
   ]
  },
  {
   "cell_type": "code",
   "execution_count": null,
   "metadata": {},
   "outputs": [],
   "source": []
  }
 ],
 "metadata": {
  "kernelspec": {
   "display_name": "Python 3 (ipykernel)",
   "language": "python",
   "name": "python3"
  },
  "language_info": {
   "codemirror_mode": {
    "name": "ipython",
    "version": 3
   },
   "file_extension": ".py",
   "mimetype": "text/x-python",
   "name": "python",
   "nbconvert_exporter": "python",
   "pygments_lexer": "ipython3",
   "version": "3.8.15"
  }
 },
 "nbformat": 4,
 "nbformat_minor": 2
}
