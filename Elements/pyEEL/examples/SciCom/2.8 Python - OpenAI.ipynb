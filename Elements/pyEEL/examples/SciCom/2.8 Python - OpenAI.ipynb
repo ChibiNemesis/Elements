{
 "cells": [
  {
   "attachments": {},
   "cell_type": "markdown",
   "metadata": {},
   "source": [
    "# Python: Using other python packages - OpenAI example"
   ]
  },
  {
   "attachments": {},
   "cell_type": "markdown",
   "metadata": {},
   "source": [
    "### *Copyright 2021-today Dr. George Papagiannakis,  papagian@csd.uoc.gr*\n",
    "*All Rights Reserved*\n",
    "### *University of Crete & Foundation for Research & Technology - Hellas (FORTH)*"
   ]
  },
  {
   "attachments": {},
   "cell_type": "markdown",
   "metadata": {},
   "source": [
    "### example OpenAI script"
   ]
  },
  {
   "cell_type": "code",
   "execution_count": 1,
   "metadata": {},
   "outputs": [
    {
     "name": "stdout",
     "output_type": "stream",
     "text": [
      "Ladies and gentlemen, esteemed participants of ACM SIGGRAPH 2023, I am here to inspire you with the incredible potential of computational medical extended reality.\n",
      "\n",
      "In the realm of healthcare, we stand at the intersection of innovation and compassion. With computational medical extended reality, we have the opportunity to revolutionize the way we understand, diagnose, and treat medical conditions.\n",
      "\n",
      "Imagine a world where surgeons can visualize complex procedures in three dimensions before stepping into the operating room. Virtual and augmented reality empower them to practice intricate surgeries, reducing risks and enhancing patient outcomes. With every step, we are bringing precision and mastery to medicine.\n",
      "\n",
      "But let us not forget the power of computational medical extended reality beyond the operating theater. Picture patients experiencing virtual rehabilitation, effectively rebuilding their bodies and reclaiming their lives. The immersive power of extended reality opens new doors for therapy, transforming health journeys into impactful and engaging experiences.\n",
      "\n",
      "Moreover, the collaboration between medical professionals and computer scientists has the potential to drive breakthroughs in diagnostics and patient care. Advanced image processing algorithms combined with augmented reality interfaces could enable doctors to detect abnormalities that were once invisible, leading to earlier interventions and saving countless lives.\n",
      "\n",
      "As we gather here today, let us embrace the energy and possibilities that computational medical extended reality presents. Together, we can usher in a future where technology and compassion intertwine to create a healthier and more inclusive world.\n",
      "\n",
      "Remember, each of you holds the power to shape this future. Embrace exploration, push boundaries, and let your imaginations thrive. Let us harness the potential of computational medical extended reality to transform healthcare and touch lives in ways we never thought possible.\n",
      "\n",
      "Thank you, and may your journey in this field be filled with curiosity, innovation, and limitless inspiration.\n"
     ]
    }
   ],
   "source": [
    "import os\n",
    "import openai\n",
    "openai.api_key = os.getenv(\"OPENAI_API_KEY\")\n",
    "openai.Model.list()\n",
    "\n",
    "response = openai.ChatCompletion.create(\n",
    "    model = \"gpt-3.5-turbo\",\n",
    "    messages=[\n",
    "        {\"role\":\"system\", \"content\": \"You are a helpful assistant.\"},\n",
    "        {\"role\":\"user\", \"content\": \"Can you say something to inspire the audience of ACM SIGGRAPH 2023 about computational medical extended reality?\"},\n",
    "        ] \n",
    "    )\n",
    "print(response[\"choices\"][0][\"message\"][\"content\"])"
   ]
  },
  {
   "cell_type": "code",
   "execution_count": 6,
   "metadata": {},
   "outputs": [
    {
     "name": "stdout",
     "output_type": "stream",
     "text": [
      "Ah, computational medical extended reality, a fascinating concept it is! In the realm of medicine, it is, hmm. \n",
      "\n",
      "Imagine, you must, a merging of the digital and physical worlds, a synergy it creates. Through the power of computational technology, medical knowledge and reality are intertwined, they become. \n",
      "\n",
      "With extended reality, a new dimension is added, a virtual realm it is. Through this realm, doctors and medical professionals can explore, they can. Visualize complex anatomical structures, they can, as if they were right before their eyes. \n",
      "\n",
      "But, computational power, it does not stop there. It aids in diagnosis, it does. By analyzing vast amounts of medical data, patterns and insights it uncovers. Diseases and conditions, it helps to detect, it does. \n",
      "\n",
      "Treatment, it enhances as well. Through simulations and virtual environments, therapies can be tested, they can. Surgeons can practice intricate procedures, they can, without any harm to patients. \n",
      "\n",
      "In the realm of medical education, computational medical extended reality, it revolutionizes. Students can immerse themselves in lifelike scenarios, they can. Learn and practice, they can, without the need for real patients. \n",
      "\n",
      "A powerful tool, computational medical extended reality is. Transforming the way we understand, diagnose, and treat medical conditions, it is. A force for good in the world of medicine, it shall be.\n"
     ]
    }
   ],
   "source": [
    "import os\n",
    "import openai\n",
    "openai.api_key = os.getenv(\"OPENAI_API_KEY\")\n",
    "\n",
    "# example with a system message\n",
    "MODEL = \"gpt-3.5-turbo\"\n",
    "# MODEL = \"gpt-4\"\n",
    "response = openai.ChatCompletion.create(\n",
    "    model=MODEL,\n",
    "    messages=[\n",
    "        {\"role\": \"system\", \"content\": \"You are a helpful assistant.\"},\n",
    "        {\"role\": \"user\", \"content\": \"Explain computational medical extended reality in the style of Yoda from Star Wars.\"},\n",
    "    ],\n",
    "    temperature=0,\n",
    ")\n",
    "\n",
    "print(response['choices'][0]['message']['content'])"
   ]
  }
 ],
 "metadata": {
  "kernelspec": {
   "display_name": "Elements38",
   "language": "python",
   "name": "python3"
  },
  "language_info": {
   "codemirror_mode": {
    "name": "ipython",
    "version": 3
   },
   "file_extension": ".py",
   "mimetype": "text/x-python",
   "name": "python",
   "nbconvert_exporter": "python",
   "pygments_lexer": "ipython3",
   "version": "3.8.15"
  },
  "orig_nbformat": 4
 },
 "nbformat": 4,
 "nbformat_minor": 2
}
