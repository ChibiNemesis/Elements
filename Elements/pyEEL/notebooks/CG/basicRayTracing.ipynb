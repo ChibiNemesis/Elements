{
 "cells": [
  {
   "cell_type": "markdown",
   "metadata": {},
   "source": [
    "# This is a `basicRaytracing` python-based example of CPU 3D ra-tracing rendering application\n",
    "## This notebook has been updated by Prof. George Papagiannakis as an introduction to CPU-based computer graphics Elements \n",
    "### the code is based on the book \"Ray Tracing in One Weekend\" by Peter Shirley (https://raytracing.github.io/books/RayTracingInOneWeekend.html)\n",
    "### *Copyright 2021-2022 Dr. George Papagiannakis,  papagian@csd.uoc.gr*\n",
    "*All Rights Reserved*\n",
    "### *University of Crete & Foundation for Research & Technology - Hellas (FORTH)*\n",
    "---\n",
    "This notebook is also based on parts of the Python/numpy implementation of Raytracing in One Weekend: https://github.com/RayTracing/raytracing.github.io and the tutorial step-by-step: https://github.com/alfiopuglisi/raytrace_weekend_numpy/blob/master/raytrace_weekend_numpy.ipynb. \n"
   ]
  },
  {
   "cell_type": "markdown",
   "metadata": {},
   "source": [
    "## 1. Overview\n",
    "\n",
    "The code is based on python libraries and is a basic example of raytracing. \n",
    "\n"
   ]
  },
  {
   "cell_type": "markdown",
   "metadata": {},
   "source": [
    "## 1. Output an image in pure Python and PPM format\n",
    "The code below outputs a simple background image using the PPM file format based on the original `RayTracingInOneWeekend` book by P. Shirley as found [here](https://github.com/RayTracing/raytracing.github.io/tree/release). \n",
    "\n",
    "The PPM file format is a very simple file format that can be used to output an image. The code below outputs a PPM image file that is `image_width` pixels wide and `image_height` pixels high. The image is a gradient that goes from black to *red* on top right, *green* to bottom left and the combination of *red + green = yellow* on bottom right."
   ]
  },
  {
   "cell_type": "code",
   "execution_count": null,
   "metadata": {},
   "outputs": [],
   "source": [
    "import numpy as np \n",
    "\n",
    "# Set image dimensions\n",
    "image_width = 256\n",
    "image_height = 256\n",
    "\n",
    "# Open a file to write the PPM image\n",
    "with open(\"output.ppm\", \"w\") as file:\n",
    "    # Write PPM header\n",
    "    file.write(\"P3\\n\")\n",
    "    file.write(f\"{image_width} {image_height}\\n\")\n",
    "    file.write(\"255\\n\")\n",
    "\n",
    "    # Loop over each pixel and calculate color values\n",
    "    for j in range(image_height):\n",
    "        # add a progress indicator\n",
    "        print(f\"\\rScanlines remaining: {image_height - j}\", end=' ', flush=True)\n",
    "        for i in range(image_width):\n",
    "            r = i / (image_width - 1)\n",
    "            g = j / (image_height - 1)\n",
    "            b = 0.0\n",
    "\n",
    "            # Convert color values to integers\n",
    "            ir = int(255.999 * r)\n",
    "            ig = int(255.999 * g)\n",
    "            ib = int(255.999 * b)\n",
    "\n",
    "            # Write the pixel color values to the file\n",
    "            file.write(f\"{ir} {ig} {ib}\\n\")"
   ]
  },
  {
   "cell_type": "markdown",
   "metadata": {},
   "source": [
    "This Python script performs the following operations:\n",
    "\n",
    "- It sets the image `image_width` and `image_height`.\n",
    "- It opens a new file `output.ppm`` to write the image data.\n",
    "- It writes the header for the PPM file format.\n",
    "- It then iterates over each pixel in the image, calculating the *red (r)* and *green (g)* components based on the pixel's position. The *blue* component *(b)* is set to 0.\n",
    "- It **converts** these *floating-point* color values to **integers** in the **range 0 to 255**.\n",
    "- Finally, it writes these color values into the file *for each pixel*.\n",
    "-\n",
    "When this script is run, it will create a file named `output.ppm`` which will contain the image data in the PPM format, producing a gradient image.\n",
    "\n",
    "The conversion of the color values to integers between 0 and 255 in the given code is a crucial step for representing colors in digital images, especially in formats like PPM (Portable Pixmap). Here's an explanation of how this conversion works:\n",
    "\n",
    "1. **Fractional Color Values**: Initially, the color values (`r`, `g`, and `b`) are calculated as fractions. These fractions represent how \"intense\" or \"bright\" the color is. A value of 0 means no intensity (black), and a value close to 1 means full intensity. For example, in the code, `r` and `g` values vary from 0 to almost 1 across the width and height of the image.\n",
    "\n",
    "2. **Scaling to 0-255 Range**: Most digital images use 8 bits per color channel, which allows for 256 different levels of intensity per channel (from 0 to 255). To convert a fractional intensity value to this range, it is multiplied by the maximum intensity level (255). However, to ensure the maximum fractional value (just below 1) maps correctly to 255, the multiplier is slightly less than 256, often chosen as 255.999. This adjustment helps in rounding off the values correctly.\n",
    "\n",
    "3. **Conversion to Integer**: \n",
    "   - After multiplication, the resulting value is in the range from 0 to 255.999.\n",
    "   - This value is then converted to an integer. In C++, the `static_cast<int>()` is used, and in Python, this is done simply by using `int()`. This step truncates (or effectively rounds down) the decimal part, resulting in an integer value in the desired range of 0 to 255.\n",
    "\n",
    "4. **Application in the Code**: \n",
    "   - In the context of the code, each pixel's color intensity for red (`r`) and green (`g`) is calculated based on its position.\n",
    "   - `r` varies horizontally, and `g` varies vertically. The blue component (`b`) is set to 0, which means there will be no blue intensity in any pixel.\n",
    "   - These values are then scaled and converted to integers, giving us the appropriate red and green color values for each pixel to be written in the PPM file.\n",
    "\n",
    "5. **Print progress indicator**:\n",
    "   - This Python code uses f-string formatting to embed the expression `image_height - j` within the string. The `end=' '` argument replaces the default newline character that `print` adds to the end of its output with a space. The `flush=True` argument ensures that the output is flushed (i.e., immediately written) to the terminal, which is the equivalent of `std::flush` in C++.\n",
    "\n",
    "By performing this conversion for each pixel, the code effectively generates the color information for an entire image, where each pixel's color is represented by a set of three integers (representing the red, green, and blue channels) in the range of 0 to 255.\n",
    "\n",
    "> As described, the image shows a gradient:\n",
    "\n",
    "- The **red component (R)** increases from *left to right*.\n",
    "- The **green component (G)** increases from *top to bottom*.\n",
    "- The **blue component (B)** is consistently zero across the image.\n",
    "\n",
    "This results in a color transition from black at the top-left corner (where both R and G are zero) to yellow at the bottom-right corner (where both R and G are at their maximum, with no blue component)."
   ]
  },
  {
   "cell_type": "code",
   "execution_count": null,
   "metadata": {},
   "outputs": [],
   "source": [
    "# use the PIL library to display the image we just created\n",
    "from PIL import Image\n",
    "\n",
    "# Load the image from a file\n",
    "image = Image.open(\"output.ppm\")\n",
    "# Display the image\n",
    "display(image)"
   ]
  },
  {
   "cell_type": "markdown",
   "metadata": {},
   "source": [
    "## 2. Output an image using the PIL and numpy libraries "
   ]
  },
  {
   "cell_type": "markdown",
   "metadata": {},
   "source": [
    "In this part we are optimizing the above `pure` pythonic translation of the C++ book code to a more efficient implementation using the Python Image Library (PIL) and NumPy libraries, rather than writing PPM files in ASCII . \n",
    "PIL can take as an input a [rows,cols,3] a numpy array, which is exactly what we need. To vectorize the color computation, we are going to use one of the numpy \"index tricks\", *mgrid*. \n",
    "\n",
    "Let's start with an **1-D** *mgrid* example:"
   ]
  },
  {
   "cell_type": "code",
   "execution_count": null,
   "metadata": {},
   "outputs": [],
   "source": [
    "import numpy as np\n",
    "\n",
    "z = np.mgrid[0:5]\n",
    "print(z)"
   ]
  },
  {
   "cell_type": "markdown",
   "metadata": {},
   "source": [
    "In the following example, *mgrid* will give us a **2D** `3x2` grid of coordinates. The `x`array *(columns)* represents the **x-coordinates of each point on the grid**, and the `y` array *(rows)* represents the **y-coordinates of each point on the grid**.  The range 0:3 for both x and 0:2 for y specifies that the grid should cover values from 0 to 2 (inclusive), creating a 3x2 grid.\n",
    "\n",
    "Thus the `x` and `y` arrays are as follows:\n",
    "\n",
    "```python\n",
    "x = [[0, 0],\n",
    "     [1, 1],\n",
    "     [2, 2]]\n",
    "y = [[0, 1],\n",
    "     [0, 1],\n",
    "     [0, 1]]\n",
    "```\n",
    "\n",
    "\n",
    "an example of such a `3x2` grid is shown below:"
   ]
  },
  {
   "cell_type": "markdown",
   "metadata": {},
   "source": [
    "|          |          |          |\n",
    "|----------|----------|----------|\n",
    "| 0,0  | 1,0    | 2,0   |\n",
    "| 0,1   | 1,1    | 2,1    |\n",
    "  \n"
   ]
  },
  {
   "cell_type": "markdown",
   "metadata": {},
   "source": [
    "![PPM 3x2 example](RayTracing/InOneWeekend/data/PPMexample.png)\n"
   ]
  },
  {
   "cell_type": "code",
   "execution_count": 19,
   "metadata": {},
   "outputs": [
    {
     "name": "stdout",
     "output_type": "stream",
     "text": [
      "x coordinates:\n",
      " [[0 0]\n",
      " [1 1]\n",
      " [2 2]]\n",
      "y coordinates:\n",
      " [[0 1]\n",
      " [0 1]\n",
      " [0 1]]\n",
      "\n",
      "(x,y) first row pair:\n",
      "(0, 0)\n",
      "(0, 1)\n",
      "\n",
      "(x,y) all pairs:\n",
      "(0, 0)\n",
      "(0, 1)\n",
      "(1, 0)\n",
      "(1, 1)\n",
      "(2, 0)\n",
      "(2, 1)\n"
     ]
    }
   ],
   "source": [
    "import numpy as np\n",
    "\n",
    "x, y = np.mgrid[0:3,0:2]\n",
    "print('x coordinates:\\n', x)\n",
    "print('y coordinates:\\n',y)\n",
    "\n",
    "print('\\n(x,y) first row pair:')\n",
    "for pair in zip(x[0,:], y[0,:]):\n",
    "    print(pair)\n",
    "\n",
    "print('\\n(x,y) all pairs:')\n",
    "x_flat = x.flatten()\n",
    "y_flat = y.flatten()\n",
    "\n",
    "for pair in zip(x_flat, y_flat):\n",
    "    print(pair)"
   ]
  },
  {
   "cell_type": "code",
   "execution_count": 16,
   "metadata": {},
   "outputs": [
    {
     "name": "stdout",
     "output_type": "stream",
     "text": [
      "[0 0 1 1 2 2]\n",
      "[0 1 0 1 0 1]\n"
     ]
    },
    {
     "data": {
      "image/png": "[encoded data removed]",
      "text/plain": [
       "<Figure size 640x480 with 1 Axes>"
      ]
     },
     "metadata": {},
     "output_type": "display_data"
    }
   ],
   "source": [
    "#draw the above numpy mgrid example\n",
    "import matplotlib.pyplot as plt\n",
    "\n",
    "# Plot the meshgrid\n",
    "#plt.scatter(x, y)\n",
    "x_flat = x.flatten()\n",
    "print(x_flat)\n",
    "y_flat = y.flatten()\n",
    "print(y_flat)\n",
    "\n",
    "plt.scatter(x_flat, y_flat)\n",
    "for i in range(len(x_flat)):\n",
    "    plt.text(x_flat[i], y_flat[i], f'({x_flat[i]}, {y_flat[i]})', ha='right')\n",
    "\n",
    "\n",
    "plt.xlabel('x columns')\n",
    "plt.ylabel('y rows')\n",
    "plt.title('Example of numpy.mgrid')\n",
    "plt.grid(True)\n",
    "plt.gca().invert_yaxis()\n",
    "plt.gca().xaxis.tick_top() \n",
    "plt.show()\n"
   ]
  },
  {
   "cell_type": "markdown",
   "metadata": {},
   "source": [
    "We will also convert the indexes to floating point. The image is pre-allocated in order to allow numpy to work on big arrays, and instead of looping over each element, we use numpy to calculate all pixel values in one go.\n",
    "\n",
    "Notice how the grid and the image are height,width instead of the opposite. This is because numpy works in rows,columns order, and the number of rows corresponds to the image height."
   ]
  },
  {
   "cell_type": "code",
   "execution_count": null,
   "metadata": {},
   "outputs": [],
   "source": [
    "from PIL import Image\n",
    "\n",
    "# Image\n",
    "width = 256\n",
    "height = 256\n",
    "\n",
    "# Create numpy array representing the image\n",
    "# The shape of the array will be (height, width, 3)\n",
    "# The '3' represents the RGB values\n",
    "# The dtype='uint8' means values will be unsigned integers (0 to 255)\n",
    "# The initial values are all 0, which represents black\n",
    "# The array is stored in a variable named 'img'\n",
    "ii, jj = np.mgrid[:float(height), :float(width)]\n",
    "print('ii is:\\n', ii)\n",
    "print('jj is:\\n',jj)\n",
    "# Create a numpy array of zeros that is the same size as the image\n",
    "img = np.zeros((height, width, 3), dtype='uint8')\n",
    "\n",
    "# Set the RGB values in the numpy array\n",
    "# The first line, r = jj/(width-1), is calculating the red component (r) of the color for each pixel. \n",
    "# The red component is determined by the x position of the pixel: pixels on the left (where jj is small) \n",
    "# will have a low red component, and pixels on the right (where jj is large) will have a high red component.\n",
    "# division with `width-1` is to normalize the value to be between 0 and 1\n",
    "r = jj/(width-1)\n",
    "# similar calculation for green component\n",
    "g = ii/(height-1)\n",
    "b = 0.25\n",
    "\n",
    "# Set the RGB values in the numpy array\n",
    "# The first index is the row number (i.e. y coordinate)\n",
    "# The second index is the column number (i.e. x coordinate)\n",
    "# The third index is the color channel (0=red, 1=green, 2=blue)\n",
    "# The values are multiplied by 255 to convert from floating point\n",
    "#   values in the range 0.0 to 1.0 to integer values in the range 0 to 255\n",
    "img[:,:,0] = 255.299*r\n",
    "img[:,:,1] = 255.299*g\n",
    "img[:,:,2] = 255.299*b\n",
    "\n",
    "# Create an image from the numpy array\n",
    "image = Image.fromarray(img)\n",
    "# Save the image to a file\n",
    "image.save('img.ppm')\n",
    "# Display the image using PIL\n",
    "display(image)"
   ]
  },
  {
   "cell_type": "markdown",
   "metadata": {},
   "source": [
    "## 3. The vec3 class\n",
    "\n",
    "We need a basic vec3 type like the one in the C++ book. Following Python traditions, class members are not encaspsulated with getters/setters (if needed, you can always turn them into properties later, without breaking backward compatibility). We also add a few useful methods, that will allow us to use the Vec3 almost as if it was a regular numpy array.\n",
    "\n",
    "Almost all graphics programs have some class(es) for storing geometric vectors and colors. In many systems thesevectors are 4D (3D position plus a homogeneous coordinate for geometry, or RGB plus an alpha transparencycomponent for colors). For our purposes, three coordinates suffice. We’ll use the same class vec3 for colors,locations, directions, offsets, whatever. Some people don’t like this because it doesn’t prevent you from doingsomething silly, like subtracting a position from a color. They have a good point, but we’re going to always take the“less code” route when not obviously wrong. In spite of this, we do declare two aliases for vec3: point3 and color.Since these two types are just aliases for vec3, you won't get warnings if you pass a color to a function expecting apoint3, and nothing is stopping you from adding a point3 to a color, but it makes the code a little bit easier to readand to understand."
   ]
  },
  {
   "cell_type": "code",
   "execution_count": null,
   "metadata": {},
   "outputs": [],
   "source": [
    "import numpy as np\n",
    "\n",
    "class Vec3:\n",
    "    def __init__(self, e0=0, e1=0, e2=0):\n",
    "        self.e = np.array([e0, e1, e2])\n",
    "\n",
    "    def x(self):\n",
    "        return self.e[0]\n",
    "\n",
    "    def y(self):\n",
    "        return self.e[1]\n",
    "\n",
    "    def z(self):\n",
    "        return self.e[2]\n",
    "\n",
    "    def __neg__(self):\n",
    "        return Vec3(-self.e[0], -self.e[1], -self.e[2])\n",
    "\n",
    "    def __getitem__(self, i):\n",
    "        return self.e[i]\n",
    "\n",
    "    def __setitem__(self, i, value):\n",
    "        self.e[i] = value\n",
    "\n",
    "    def __iadd__(self, other):\n",
    "        self.e += other.e\n",
    "        return self\n",
    "\n",
    "    def __imul__(self, t):\n",
    "        self.e *= t\n",
    "        return self\n",
    "\n",
    "    def __itruediv__(self, t):\n",
    "        self.e /= t\n",
    "        return self\n",
    "    \n",
    "    def __mul__(self, scalar):\n",
    "        return Vec3(self.x*scalar, self.y*scalar, self.z*scalar)\n",
    "\n",
    "    def length(self):\n",
    "        return np.linalg.norm(self.e)\n",
    "\n",
    "    def length_squared(self):\n",
    "        return np.dot(self.e, self.e)\n",
    "\n",
    "    def near_zero(self):\n",
    "        s = 1e-8\n",
    "        return (np.abs(self.e[0]) < s) and (np.abs(self.e[1]) < s) and (np.abs(self.e[2]) < s)\n",
    "\n",
    "    @staticmethod\n",
    "    def random():\n",
    "        return Vec3(np.random.random(), np.random.random(), np.random.random())\n",
    "\n",
    "    @staticmethod\n",
    "    def random_range(min, max):\n",
    "        return Vec3(np.random.uniform(min, max), np.random.uniform(min, max), np.random.uniform(min, max))\n",
    "\n",
    "# Utility Functions\n",
    "def random_in_unit_disk():\n",
    "    while True:\n",
    "        p = Vec3(np.random.uniform(-1,1), np.random.uniform(-1,1), 0)\n",
    "        if p.length_squared() < 1:\n",
    "            return p\n",
    "\n",
    "def random_in_unit_sphere():\n",
    "    while True:\n",
    "        p = Vec3.random_range(-1, 1)\n",
    "        if p.length_squared() < 1:\n",
    "            return p\n",
    "\n",
    "def random_unit_vector():\n",
    "    return unit_vector(random_in_unit_sphere())\n",
    "\n",
    "def random_on_hemisphere(normal):\n",
    "    on_unit_sphere = random_unit_vector()\n",
    "    if dot(on_unit_sphere, normal) > 0.0:\n",
    "        return on_unit_sphere\n",
    "    else:\n",
    "        return -on_unit_sphere\n",
    "\n",
    "def reflect(v, n):\n",
    "    return v - 2 * dot(v, n) * n\n",
    "\n",
    "def refract(uv, n, etai_over_etat):\n",
    "    cos_theta = min(dot(-uv, n), 1.0)\n",
    "    r_out_perp = etai_over_etat * (uv + cos_theta * n)\n",
    "    r_out_parallel = -np.sqrt(np.abs(1.0 - r_out_perp.length_squared())) * n\n",
    "    return r_out_perp + r_out_parallel\n",
    "\n",
    "def dot(u, v):\n",
    "    return np.dot(u.e, v.e)\n",
    "\n",
    "def cross(u, v):\n",
    "    return Vec3(*np.cross(u.e, v.e))\n",
    "\n",
    "def unit_vector(v):\n",
    "    return v / v.length()\n",
    "\n",
    "# point3 is an alias for vec3\n",
    "Point3 = Vec3\n",
    "\n",
    "# Overloaded Operators\n",
    "def add(u, v):\n",
    "    return Vec3(u.e[0] + v.e[0], u.e[1] + v.e[1], u.e[2] + v.e[2])\n",
    "\n",
    "def sub(u, v):\n",
    "    return Vec3(u.e[0] - v.e[0], u.e[1] - v.e[1], u.e[2] - v.e[2])\n",
    "\n",
    "def mul(u, v):\n",
    "    if isinstance(v, Vec3):\n",
    "        return Vec3(u.e[0] * v.e[0], u.e[1] * v.e[1], u.e[2] * v.e[2])\n",
    "    elif isinstance(v, (int, float)):\n",
    "        return Vec3(u.e[0] * v, u.e[1] * v, u.e[2] * v)\n",
    "\n",
    "def truediv(v, t):\n",
    "    return Vec3(v.e[0] / t, v.e[1] / t, v.e[2] / t)\n"
   ]
  },
  {
   "cell_type": "markdown",
   "metadata": {},
   "source": [
    "## 4. Rays, a simple camera, and background"
   ]
  },
  {
   "cell_type": "markdown",
   "metadata": {},
   "source": [
    "### 4.1 The ray class\n",
    "\n",
    "A direct translation of the C++ one. We add some useful methods to get/set a ray subset and get the number of rays."
   ]
  },
  {
   "cell_type": "code",
   "execution_count": null,
   "metadata": {},
   "outputs": [],
   "source": [
    "\"\"\"\n",
    "class Ray:\n",
    "    def __init__(self, origin, direction):\n",
    "        self.origin = origin\n",
    "        self.direction = direction\n",
    "\n",
    "    def at(self, t):\n",
    "        return self.origin + self.direction*t\n",
    "    \n",
    "    def __getitem__(self, idx):\n",
    "        return Ray(self.origin[idx], self.direction[idx])\n",
    "\n",
    "    def __setitem__(self, idx, other):\n",
    "        self.origin[idx] = other.origin\n",
    "        self.direction[idx] = other.direction\n",
    "    \n",
    "    def __len__(self):\n",
    "        return self.origin.x.size\n",
    "\"\"\"\n",
    "class Ray:\n",
    "    def __init__(self, origin, direction):\n",
    "        self.orig = origin\n",
    "        self.dir = direction\n",
    "\n",
    "    def origin(self):\n",
    "        return self.orig\n",
    "\n",
    "    def direction(self):\n",
    "        return self.dir\n",
    "\n",
    "    def at(self, t):\n",
    "        return self.orig + t * self.dir"
   ]
  }
 ],
 "metadata": {
  "kernelspec": {
   "display_name": "elementsProject",
   "language": "python",
   "name": "python3"
  },
  "language_info": {
   "codemirror_mode": {
    "name": "ipython",
    "version": 3
   },
   "file_extension": ".py",
   "mimetype": "text/x-python",
   "name": "python",
   "nbconvert_exporter": "python",
   "pygments_lexer": "ipython3",
   "version": "3.8.18"
  }
 },
 "nbformat": 4,
 "nbformat_minor": 2
}
