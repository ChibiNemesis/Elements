{
 "cells": [
  {
   "cell_type": "markdown",
   "metadata": {},
   "source": [
    "# This is a `basicRaytracing`` python-based example of CPU rendering\n",
    "## This notebook has been updated by Prof. George Papagiannakis as an introduction to CPU-based computer graphics Elements \n",
    "### the code is based on the book \"Ray Tracing in One Weekend\" by Peter Shirley (https://raytracing.github.io/books/RayTracingInOneWeekend.html)\n",
    "---\n"
   ]
  },
  {
   "cell_type": "markdown",
   "metadata": {},
   "source": [
    "##1. Overview\n",
    "\n",
    "The code is based on python libraries and is a basic example of raytracing. \n",
    "\n",
    "The code below outputs a simple background image using the PPM file format."
   ]
  },
  {
   "cell_type": "code",
   "execution_count": 2,
   "metadata": {},
   "outputs": [],
   "source": [
    "# Set image dimensions\n",
    "image_width = 256\n",
    "image_height = 256\n",
    "\n",
    "# Open a file to write the PPM image\n",
    "with open(\"output.ppm\", \"w\") as file:\n",
    "    # Write PPM header\n",
    "    file.write(\"P3\\n\")\n",
    "    file.write(f\"{image_width} {image_height}\\n\")\n",
    "    file.write(\"255\\n\")\n",
    "\n",
    "    # Loop over each pixel and calculate color values\n",
    "    for j in range(image_height):\n",
    "        for i in range(image_width):\n",
    "            r = i / (image_width - 1)\n",
    "            g = j / (image_height - 1)\n",
    "            b = 0.0\n",
    "\n",
    "            # Convert color values to integers\n",
    "            ir = int(255.999 * r)\n",
    "            ig = int(255.999 * g)\n",
    "            ib = int(255.999 * b)\n",
    "\n",
    "            # Write the pixel color values to the file\n",
    "            file.write(f\"{ir} {ig} {ib}\\n\")"
   ]
  },
  {
   "cell_type": "code",
   "execution_count": 6,
   "metadata": {},
   "outputs": [
    {
     "data": {
      "image/jpeg": "[encoded data removed]",
      "image/png": "[encoded data removed]",
      "text/plain": [
       "<PIL.PpmImagePlugin.PpmImageFile image mode=RGB size=256x256>"
      ]
     },
     "metadata": {},
     "output_type": "display_data"
    },
    {
     "name": "stdout",
     "output_type": "stream",
     "text": [
      "<PIL.PpmImagePlugin.PpmImageFile image mode=RGB size=256x256 at 0x1074AA070>\n"
     ]
    }
   ],
   "source": [
    "from PIL import Image\n",
    "\n",
    "# Load the image from a file\n",
    "image = Image.open(\"output.ppm\")\n",
    "\n",
    "# Display the image\n",
    "display(image)\n",
    "print(image)"
   ]
  },
  {
   "cell_type": "code",
   "execution_count": null,
   "metadata": {},
   "outputs": [],
   "source": []
  }
 ],
 "metadata": {
  "kernelspec": {
   "display_name": "elementsProject",
   "language": "python",
   "name": "python3"
  },
  "language_info": {
   "codemirror_mode": {
    "name": "ipython",
    "version": 3
   },
   "file_extension": ".py",
   "mimetype": "text/x-python",
   "name": "python",
   "nbconvert_exporter": "python",
   "pygments_lexer": "ipython3",
   "version": "3.8.18"
  }
 },
 "nbformat": 4,
 "nbformat_minor": 2
}
