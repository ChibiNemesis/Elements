{
 "cells": [
  {
   "cell_type": "markdown",
   "metadata": {},
   "source": [
    "# This is a `basicRaytracing` python-based example of CPU 3D ra-tracing rendering application\n",
    "## This notebook has been updated by Prof. George Papagiannakis as an introduction to CPU-based computer graphics Elements \n",
    "### the code is based on the book \"Ray Tracing in One Weekend\" by Peter Shirley (https://raytracing.github.io/books/RayTracingInOneWeekend.html)\n",
    "### *Copyright 2021-2022 Dr. George Papagiannakis,  papagian@csd.uoc.gr*\n",
    "*All Rights Reserved*\n",
    "### *University of Crete & Foundation for Research & Technology - Hellas (FORTH)*\n",
    "---\n",
    "This notebook is also based on parts of the Python/numpy implementation of Raytracing in One Weekend: https://github.com/RayTracing/raytracing.github.io and the tutorial step-by-step: https://github.com/alfiopuglisi/raytrace_weekend_numpy/blob/master/raytrace_weekend_numpy.ipynb. \n"
   ]
  },
  {
   "cell_type": "markdown",
   "metadata": {},
   "source": [
    "## 1. Overview\n",
    "\n",
    "The code is based on python libraries and is a basic example of raytracing. \n",
    "\n"
   ]
  },
  {
   "cell_type": "markdown",
   "metadata": {},
   "source": [
    "## 1. Output an image in pure Python and PPM format\n",
    "The code below outputs a simple background image using the PPM file format based on the original `RayTracingInOneWeekend` book by P. Shirley as found [here](https://github.com/RayTracing/raytracing.github.io/tree/release). \n",
    "\n",
    "The PPM file format is a very simple file format that can be used to output an image. The code below outputs a PPM image file that is `image_width` pixels wide and `image_height` pixels high. The image is a gradient that goes from black to *red* on top right, *green* to bottom left and the combination of *red + green = yellow* on bottom right."
   ]
  },
  {
   "cell_type": "markdown",
   "metadata": {},
   "source": [
    "Here is an example of the PPM file format, from *Wikipedia*:\n",
    "\n",
    "![PPM 3x2 example](RayTracing/InOneWeekend/data/PPMexample.png)"
   ]
  },
  {
   "cell_type": "markdown",
   "metadata": {},
   "source": [
    "In the above figure, the image grid is `3x2`, thus `x` is the width *(columns)* and `y` is the height *(rows)*. The first line is the header, the second line is the pixel color data. \n",
    "\n",
    "The header is `P3` which means the colors are in ASCII, `3 2` are the width and height, and `255` is the maximum color value. \n",
    "\n",
    "The pixel color data is in the format `R G B` where `R` is the red value, `G` is the green value, and `B` is the blue value. \n",
    "\n",
    "The pixel color data is in row-major order, so the first row is: `255 0 0 0 255 0 0 0 255` \n",
    "and the second row is: `255 255 0 255 255 255 0 0 0`."
   ]
  },
  {
   "cell_type": "markdown",
   "metadata": {},
   "source": [
    "# what is row-major order for storage?\n",
    "Row-major order is a method of storing or accessing multidimensional arrays in memory. In this method, the elements in each row of the array are stored in consecutive memory locations. This means that when you iterate over the array, you will first go through all the elements in the first row, from left to right, then move on to the second row, and so on.\n",
    "\n",
    "In the context of pixel data, an image can be thought of as a 2D array (or a 3D array for color images), where each element of the array represents a pixel. If the pixel data is stored in row-major order, this means that the pixels are stored or accessed row by row. The top row of pixels (row 0) is stored first, followed by the second row (row 1), and so on. Within each row, the pixels are stored from left to right.\n",
    "\n",
    "The following figure illustrates the concept of row-major order for a `w by h` image, where `w` is the width of the image and `h` is the height of the image and the pixel data is stored in row-major order. The numbers represent the order in which the pixels are stored in memory, with the first pixel at the top left and the last pixel at the bottom right. Typically we use indices like **`i` for the columns** and **`j` for the rows**, so the pixel at row `i` and column `j` is stored at position `i * w + j` in the memory.\n",
    "\n",
    "![image wxh example](RayTracing/InOneWeekend/data/pixel-grid.png)\n",
    "\n",
    "This is the standard way of storing images in most image processing libraries, including Python's PIL and OpenCV. It is also the way that images are typically displayed on screen, with the first pixel at the top left and the last pixel at the bottom right."
   ]
  },
  {
   "cell_type": "markdown",
   "metadata": {},
   "source": [
    "This is the standard way of storing images in most image processing libraries, including Python's PIL and OpenCV. \n",
    "\n",
    "It is also the way that images are typically displayed on screen, with the first pixel at the top left and the last pixel at the bottom right. Common indices are `i`, `w` or `x` for the columns and `j`, `h`, `y` for the rows :\n",
    "\n",
    "| Columns (c)  | Rows (r) |\n",
    "|----------|----------|\n",
    "| 3    | 2    |\n",
    "| i    | j    |\n",
    "| w    | h    |\n",
    "| x    | y    |\n"
   ]
  },
  {
   "cell_type": "code",
   "execution_count": 1,
   "metadata": {},
   "outputs": [
    {
     "name": "stdout",
     "output_type": "stream",
     "text": [
      "Scanlines remaining: 1   "
     ]
    }
   ],
   "source": [
    "import numpy as np \n",
    "\n",
    "# Set image dimensions\n",
    "image_width = 256\n",
    "image_height = 256\n",
    "\n",
    "# Open a file to write the PPM image\n",
    "with open(\"output.ppm\", \"w\") as file:\n",
    "    # Write PPM header\n",
    "    file.write(\"P3\\n\")\n",
    "    file.write(f\"{image_width} {image_height}\\n\")\n",
    "    file.write(\"255\\n\")\n",
    "\n",
    "    # Loop over each pixel and calculate color values\n",
    "    # In this structure, the outer loop (for j in range(image_height)) iterates over the rows of the image, \n",
    "    # and for each row, the inner loop (for i in range(image_width)) iterates over the columns. \n",
    "    # This means that all the pixels in a row are processed before moving on to the next row, \n",
    "    # which is characteristic of row-major order.\n",
    "    # This is the order in which the pixels are stored in memory, and it is the order in which the pixels are\n",
    "    # written to the file. This is important because it means that the pixels are written to the file in the same order\n",
    "    # that they are stored in memory, which is the most efficient way to write the image data to the file.\n",
    "    # \n",
    "    # iterate over the rows of the image\n",
    "    for j in range(image_height):\n",
    "        # add a progress indicator\n",
    "        print(f\"\\rScanlines remaining: {image_height - j}\", end=' ', flush=True)\n",
    "        #iterate over the columns of the image\n",
    "        for i in range(image_width):\n",
    "            r = i / (image_width - 1)\n",
    "            g = j / (image_height - 1)\n",
    "            b = 0.0\n",
    "\n",
    "            # Convert color values to integers\n",
    "            ir = int(255.999 * r)\n",
    "            ig = int(255.999 * g)\n",
    "            ib = int(255.999 * b)\n",
    "\n",
    "            # Write the pixel color values to the file\n",
    "            file.write(f\"{ir} {ig} {ib}\\n\")"
   ]
  },
  {
   "cell_type": "markdown",
   "metadata": {},
   "source": [
    "This Python script performs the following operations:\n",
    "\n",
    "- It sets the image `image_width` and `image_height`.\n",
    "- It opens a new file `output.ppm`` to write the image data.\n",
    "- It writes the header for the PPM file format.\n",
    "- It then iterates over each pixel in the image, calculating the *red (r)* and *green (g)* components based on the pixel's position. The *blue* component *(b)* is set to 0.\n",
    "- It **converts** these *floating-point* color values to **integers** in the **range 0 to 255**.\n",
    "- Finally, it writes these color values into the file *for each pixel*.\n",
    "-\n",
    "When this script is run, it will create a file named `output.ppm`` which will contain the image data in the PPM format, producing a gradient image.\n",
    "\n",
    "The conversion of the color values to integers between 0 and 255 in the given code is a crucial step for representing colors in digital images, especially in formats like PPM (Portable Pixmap). Here's an explanation of how this conversion works:\n",
    "\n",
    "1. **Fractional Color Values**: Initially, the color values (`r`, `g`, and `b`) are calculated as fractions. These fractions represent how \"intense\" or \"bright\" the color is. A value of 0 means no intensity (black), and a value close to 1 means full intensity. For example, in the code, `r` and `g` values vary from 0 to almost 1 across the width and height of the image.\n",
    "\n",
    "2. **Scaling to 0-255 Range**: Most digital images use 8 bits per color channel, which allows for 256 different levels of intensity per channel (from 0 to 255). To convert a fractional intensity value to this range, it is multiplied by the maximum intensity level (255). However, to ensure the maximum fractional value (just below 1) maps correctly to 255, the multiplier is slightly less than 256, often chosen as 255.999. This adjustment helps in rounding off the values correctly.\n",
    "\n",
    "3. **Conversion to Integer**: \n",
    "   - After multiplication, the resulting value is in the range from 0 to 255.999.\n",
    "   - This value is then converted to an integer. In C++, the `static_cast<int>()` is used, and in Python, this is done simply by using `int()`. This step truncates (or effectively rounds down) the decimal part, resulting in an integer value in the desired range of 0 to 255.\n",
    "\n",
    "4. **Application in the Code**: \n",
    "   - In the context of the code, each pixel's color intensity for red (`r`) and green (`g`) is calculated based on its position.\n",
    "   - `r` varies horizontally, and `g` varies vertically. The blue component (`b`) is set to 0, which means there will be no blue intensity in any pixel.\n",
    "   - These values are then scaled and converted to integers, giving us the appropriate red and green color values for each pixel to be written in the PPM file.\n",
    "\n",
    "5. **Print progress indicator**:\n",
    "   - This Python code uses f-string formatting to embed the expression `image_height - j` within the string. The `end=' '` argument replaces the default newline character that `print` adds to the end of its output with a space. The `flush=True` argument ensures that the output is flushed (i.e., immediately written) to the terminal, which is the equivalent of `std::flush` in C++.\n",
    "\n",
    "By performing this conversion for each pixel, the code effectively generates the color information for an entire image, where each pixel's color is represented by a set of three integers (representing the red, green, and blue channels) in the range of 0 to 255.\n",
    "\n",
    "> As described, the image shows a gradient:\n",
    "\n",
    "- The **red component (R)** increases from *left to right*.\n",
    "- The **green component (G)** increases from *top to bottom*.\n",
    "- The **blue component (B)** is consistently zero across the image.\n",
    "\n",
    "This results in a color transition from black at the top-left corner (where both R and G are zero) to yellow at the bottom-right corner (where both R and G are at their maximum, with no blue component)."
   ]
  },
  {
   "cell_type": "code",
   "execution_count": null,
   "metadata": {},
   "outputs": [],
   "source": [
    "# use the PIL library to display the image we just created\n",
    "from PIL import Image\n",
    "\n",
    "# Load the image from a file\n",
    "image = Image.open(\"output.ppm\")\n",
    "# Display the image\n",
    "display(image)"
   ]
  },
  {
   "cell_type": "markdown",
   "metadata": {},
   "source": [
    "## 2. Output an image using the PIL and numpy libraries "
   ]
  },
  {
   "cell_type": "markdown",
   "metadata": {},
   "source": [
    "In this part we are optimizing the above `pure` pythonic translation of the C++ book code to a more efficient implementation using the Python Image Library (PIL) and NumPy libraries, rather than writing PPM files in ASCII . \n",
    "PIL can take as an input a [rows,cols,3] a numpy array, which is exactly what we need. To vectorize the color computation, we are going to use one of the numpy \"index tricks\", *mgrid*. \n",
    "\n",
    "Let's start with an **1-D** *mgrid* example:"
   ]
  },
  {
   "cell_type": "code",
   "execution_count": 2,
   "metadata": {},
   "outputs": [
    {
     "name": "stdout",
     "output_type": "stream",
     "text": [
      "[0 1 2]\n"
     ]
    }
   ],
   "source": [
    "import numpy as np\n",
    "\n",
    "z = np.mgrid[0:3]\n",
    "print(z)"
   ]
  },
  {
   "cell_type": "markdown",
   "metadata": {},
   "source": [
    "\n",
    "In the following example, *mgrid* will give us a **2D** `3x2` grid of coordinates. The `x`array *(columns)* represents the **x-coordinates of each point on the grid**, and the `y` array *(rows)* represents the **y-coordinates of each point on the grid**.  The range 0:3 for both x and 0:2 for y specifies that the grid should cover values from 0 to 2 (inclusive), creating a 3x2 grid.\n",
    "\n",
    "In the code: \n",
    "```python\n",
    "x, y = np.mgrid[0:3,0:2], \n",
    "```\n",
    "x and y are both 2D arrays generated by the `np.mgrid` function.\n",
    "\n",
    "The np.mgrid function generates a multidimensional \"meshgrid\", which is a set of coordinate arrays for vectorized evaluations of functions over a grid. The resulting grid is a set of points in a 2D space.\n",
    "\n",
    "In this case, x represents the row indices and y represents the column indices for the grid points.\n",
    "\n",
    "So, for each point in the grid, x gives the row number and y gives the column number. The grid in this case would look like this:\n",
    "\n",
    "```python\n",
    "x = [[0, 0],\n",
    "     [1, 1],\n",
    "     [2, 2]]\n",
    "y = [[0, 1],\n",
    "     [0, 1],\n",
    "     [0, 1]]\n",
    "```\n",
    "\n",
    "\n",
    "an example of such a `3x2` grid is shown in Figure 1 above."
   ]
  },
  {
   "cell_type": "code",
   "execution_count": 3,
   "metadata": {},
   "outputs": [
    {
     "name": "stdout",
     "output_type": "stream",
     "text": [
      "x coordinates:\n",
      " [[0 0]\n",
      " [1 1]\n",
      " [2 2]]\n",
      "y coordinates:\n",
      " [[0 1]\n",
      " [0 1]\n",
      " [0 1]]\n",
      "\n",
      "(x,y) first row pair:\n",
      "(0, 0)\n",
      "(0, 1)\n",
      "\n",
      "(x,y) all pairs:\n",
      "(0, 0)\n",
      "(0, 1)\n",
      "(1, 0)\n",
      "(1, 1)\n",
      "(2, 0)\n",
      "(2, 1)\n"
     ]
    }
   ],
   "source": [
    "import numpy as np\n",
    "\n",
    "# x and y are 2D arrays \n",
    "# x represents the x-coordinates of the grid points, and y represents the y-coordinates of the grid points\n",
    "# x are the rows and y are the columns, hence IT IS NOT as in PPM image where the rows are the y and the columns are the x\n",
    "x, y = np.mgrid[0:3,0:2]\n",
    "print('x coordinates:\\n', x)\n",
    "print('y coordinates:\\n',y)\n",
    "\n",
    "print('\\n(x,y) first row pair:')\n",
    "for pair in zip(x[0,:], y[0,:]):\n",
    "    print(pair)\n",
    "\n",
    "print('\\n(x,y) all pairs:')\n",
    "x_flat = x.flatten()\n",
    "y_flat = y.flatten()\n",
    "\n",
    "for pair in zip(x_flat, y_flat):\n",
    "    print(pair)"
   ]
  },
  {
   "cell_type": "code",
   "execution_count": 10,
   "metadata": {},
   "outputs": [
    {
     "name": "stdout",
     "output_type": "stream",
     "text": [
      "[0 0 1 1 2 2]\n",
      "[0 1 0 1 0 1]\n"
     ]
    },
    {
     "data": {
      "image/png": "[encoded data removed]",
      "text/plain": [
       "<Figure size 640x480 with 1 Axes>"
      ]
     },
     "metadata": {},
     "output_type": "display_data"
    }
   ],
   "source": [
    "#draw the above numpy mgrid example\n",
    "import matplotlib.pyplot as plt\n",
    "\n",
    "# Plot the meshgrid\n",
    "#plt.scatter(x, y)\n",
    "x_flat = x.flatten()\n",
    "print(x_flat)\n",
    "y_flat = y.flatten()\n",
    "print(y_flat)\n",
    "\n",
    "plt.scatter(x_flat, y_flat)\n",
    "for i in range(len(x_flat)):\n",
    "    plt.text(x_flat[i], y_flat[i], f'({x_flat[i]}, {y_flat[i]})', ha='right')\n",
    "\n",
    "\n",
    "plt.xlabel('x')\n",
    "plt.ylabel('y')\n",
    "plt.title('Example of numpy.mgrid')\n",
    "plt.grid(True)\n",
    "plt.gca().invert_yaxis()\n",
    "plt.gca().xaxis.tick_top() \n",
    "plt.show()\n"
   ]
  },
  {
   "cell_type": "markdown",
   "metadata": {},
   "source": [
    "We will also convert the indexes to floating point. The image is pre-allocated in order to allow numpy to work on big arrays, and instead of looping over each element, we use numpy to calculate all pixel values in one go.\n",
    "\n",
    "Notice how the grid and the image are height,width instead of the opposite. This is because numpy works in `row-major` i.e. rows,columns order, and the number of rows corresponds to the image height."
   ]
  },
  {
   "cell_type": "markdown",
   "metadata": {},
   "source": [
    "Here we try to replicate the same PPM image as in figure 1, but using the PIL and numpy libraries to create the image."
   ]
  },
  {
   "cell_type": "code",
   "execution_count": null,
   "metadata": {},
   "outputs": [
    {
     "name": "stdout",
     "output_type": "stream",
     "text": [
      "x coordinates:\n",
      " [[0 0 0]\n",
      " [1 1 1]]\n",
      "y coordinates:\n",
      " [[0 1 2]\n",
      " [0 1 2]]\n",
      "\n",
      "(x,y) all pairs:\n",
      "(0, 0)\n",
      "(0, 1)\n",
      "(0, 2)\n",
      "(1, 0)\n",
      "(1, 1)\n",
      "(1, 2)\n",
      "`n `x` shape is: (2, 3)\n",
      "[[255, 0, 0], [0, 255, 0], [0, 0, 255]]\n",
      "[[255, 255, 0], [255, 255, 255], [0, 0, 0]]\n"
     ]
    },
    {
     "data": {
      "image/jpeg": "[encoded data removed]",
      "image/png": "[encoded data removed]",
      "text/plain": [
       "<PIL.Image.Image image mode=RGB size=3x2>"
      ]
     },
     "metadata": {},
     "output_type": "display_data"
    }
   ],
   "source": [
    "from PIL import Image\n",
    "\n",
    "# create a 2x3 grid using numpy.mgrid\n",
    "x, y = np.mgrid[0:2, 0:3]\n",
    "print('x coordinates:\\n', x)\n",
    "print('y coordinates:\\n', y)\n",
    "\n",
    "print('\\n(x,y) all pairs:')\n",
    "x_flat = x.flatten()\n",
    "y_flat = y.flatten()\n",
    "for pair in zip(x_flat, y_flat):\n",
    "    print(pair)\n",
    "\n",
    "#print the shape of the x array\n",
    "print('\\n `x` shape is:', x.shape)\n",
    "\n",
    "# Create a 2D array of lists\n",
    "\"\"\"\"\n",
    "The grid is a 2D array of lists, where each element of the grid is a list of 3 elements.\n",
    "The size of the grid is determined by the shape of the x array, which is assumed to be \n",
    "a two-dimensional NumPy array.\n",
    "The outer list comprehension for _ in range(x.shape[0]) is creating a list with a length \n",
    "equal to the number of rows in x. \n",
    "Each element of this list is another list, created by the inner list comprehension for _ in range(x.shape[1]).\n",
    "The inner list comprehension is creating a list with a length equal to the number of columns in x. \n",
    "Each element of this list is an empty list [].\n",
    "So, the result is a two-dimensional list (or list of lists) where the outer list represents rows \n",
    "and the inner lists represent columns. Each element in the grid is an empty list. \n",
    "This kind of structure could be useful in a variety of contexts, such as storing complex data \n",
    "associated with each point in a grid.\n",
    "\"\"\"\n",
    "grid = [[[] for _ in range(x.shape[1])] for _ in range(x.shape[0])]\n",
    "\n",
    "# Iterate over the grid and assign an empty list of 3 elements to each position\n",
    "for i in range(x.shape[0]):\n",
    "    for j in range(x.shape[1]):\n",
    "        grid[i][j] = [0, 0, 0]\n",
    "\n",
    "#assign the color values to the grid\n",
    "#assign red to element at position (0,0)\n",
    "grid[0][0] = [255, 0, 0]\n",
    "#assign green to element at position (0,1)\n",
    "grid[0][1] = [0, 255, 0]\n",
    "#assign blue to element at position (0,2)\n",
    "grid[0][2] = [0, 0, 255]\n",
    "#assign yellow to element at position (1,0)\n",
    "grid[1][0] = [255, 255, 0]\n",
    "#assign white to element at position (1,1)\n",
    "grid[1][1] = [255, 255, 255]\n",
    "#assign black to element at position (1,2)\n",
    "grid[1][2] = [0, 0, 0]\n",
    "\n",
    "# Print the grid\n",
    "for row in grid:\n",
    "    print(row)\n",
    "\n",
    "# Create an image from the numpy grid array\n",
    "image = Image.fromarray(np.uint8(grid))\n",
    "# Save the image to a file\n",
    "image.save('3x2.ppm')\n",
    "# Display the image using PIL\n",
    "display(image)\n"
   ]
  },
  {
   "cell_type": "code",
   "execution_count": 5,
   "metadata": {},
   "outputs": [
    {
     "name": "stdout",
     "output_type": "stream",
     "text": [
      "ii is:\n",
      " [[  0.   0.   0. ...   0.   0.   0.]\n",
      " [  1.   1.   1. ...   1.   1.   1.]\n",
      " [  2.   2.   2. ...   2.   2.   2.]\n",
      " ...\n",
      " [253. 253. 253. ... 253. 253. 253.]\n",
      " [254. 254. 254. ... 254. 254. 254.]\n",
      " [255. 255. 255. ... 255. 255. 255.]]\n",
      "jj is:\n",
      " [[  0.   1.   2. ... 253. 254. 255.]\n",
      " [  0.   1.   2. ... 253. 254. 255.]\n",
      " [  0.   1.   2. ... 253. 254. 255.]\n",
      " ...\n",
      " [  0.   1.   2. ... 253. 254. 255.]\n",
      " [  0.   1.   2. ... 253. 254. 255.]\n",
      " [  0.   1.   2. ... 253. 254. 255.]]\n"
     ]
    },
    {
     "data": {
      "image/jpeg": "[encoded data removed]",
      "image/png": "[encoded data removed]",
      "text/plain": [
       "<PIL.Image.Image image mode=RGB size=256x256>"
      ]
     },
     "metadata": {},
     "output_type": "display_data"
    }
   ],
   "source": [
    "from PIL import Image\n",
    "\n",
    "# Image\n",
    "width = 256\n",
    "height = 256\n",
    "\n",
    "# Create numpy array representing the image\n",
    "# The shape of the array will be (height, width, 3)\n",
    "# The '3' represents the RGB values\n",
    "# The dtype='uint8' means values will be unsigned integers (0 to 255)\n",
    "# The initial values are all 0, which represents black\n",
    "# The array is stored in a variable named 'img'\n",
    "# ii contains the row indices, and jj contains the column indices\n",
    "ii, jj = np.mgrid[:float(height), :float(width)]\n",
    "print('ii is:\\n', ii)\n",
    "print('jj is:\\n',jj)\n",
    "# Create a numpy array of zeros that is the same size as the image\n",
    "img = np.zeros((height, width, 3), dtype='uint8')\n",
    "\n",
    "# Set the RGB values in the numpy array\n",
    "# The first line, r = jj/(width-1), is calculating the red component (r) of the color for each pixel. \n",
    "# The red component is determined by the x position of the pixel: pixels on the left (where jj is small) \n",
    "# will have a low red component, and pixels on the right (where jj is large) will have a high red component.\n",
    "# division with `width-1` is to normalize the value to be between 0 and 1\n",
    "r = jj/(width-1)\n",
    "# similar calculation for green component\n",
    "g = ii/(height-1)\n",
    "b = 0.25\n",
    "\n",
    "# Set the RGB values in the numpy array\n",
    "# The first index is the row number (i.e. y coordinate)\n",
    "# The second index is the column number (i.e. x coordinate)\n",
    "# The third index is the color channel (0=red, 1=green, 2=blue)\n",
    "# The values are multiplied by 255 to convert from floating point\n",
    "#   values in the range 0.0 to 1.0 to integer values in the range 0 to 255\n",
    "img[:,:,0] = 255.299*r\n",
    "img[:,:,1] = 255.299*g\n",
    "img[:,:,2] = 255.299*b\n",
    "\n",
    "# Create an image from the numpy array\n",
    "image = Image.fromarray(img)\n",
    "# Save the image to a file\n",
    "image.save('img.ppm')\n",
    "# Display the image using PIL\n",
    "display(image)"
   ]
  },
  {
   "cell_type": "markdown",
   "metadata": {},
   "source": [
    "## 3. The vec3 class\n",
    "\n",
    "We need a basic vec3 type like the one in the C++ book. Following Python traditions, class members are not encaspsulated with getters/setters (if needed, you can always turn them into properties later, without breaking backward compatibility). We also add a few useful methods, that will allow us to use the Vec3 almost as if it was a regular numpy array.\n",
    "\n",
    "Almost all graphics programs have some class(es) for storing geometric vectors and colors. In many systems thesevectors are 4D (3D position plus a homogeneous coordinate for geometry, or RGB plus an alpha transparencycomponent for colors). For our purposes, three coordinates suffice. We’ll use the same class vec3 for colors,locations, directions, offsets, whatever. Some people don’t like this because it doesn’t prevent you from doingsomething silly, like subtracting a position from a color. They have a good point, but we’re going to always take the“less code” route when not obviously wrong. In spite of this, we do declare two aliases for vec3: point3 and color.Since these two types are just aliases for vec3, you won't get warnings if you pass a color to a function expecting apoint3, and nothing is stopping you from adding a point3 to a color, but it makes the code a little bit easier to readand to understand."
   ]
  },
  {
   "cell_type": "code",
   "execution_count": null,
   "metadata": {},
   "outputs": [],
   "source": [
    "import numpy as np\n",
    "\n",
    "class Vec3:\n",
    "    def __init__(self, e0=0, e1=0, e2=0):\n",
    "        self.e = np.array([e0, e1, e2])\n",
    "\n",
    "    def x(self):\n",
    "        return self.e[0]\n",
    "\n",
    "    def y(self):\n",
    "        return self.e[1]\n",
    "\n",
    "    def z(self):\n",
    "        return self.e[2]\n",
    "\n",
    "    def __neg__(self):\n",
    "        return Vec3(-self.e[0], -self.e[1], -self.e[2])\n",
    "\n",
    "    def __getitem__(self, i):\n",
    "        return self.e[i]\n",
    "\n",
    "    def __setitem__(self, i, value):\n",
    "        self.e[i] = value\n",
    "\n",
    "    def __iadd__(self, other):\n",
    "        self.e += other.e\n",
    "        return self\n",
    "\n",
    "    def __imul__(self, t):\n",
    "        self.e *= t\n",
    "        return self\n",
    "\n",
    "    def __itruediv__(self, t):\n",
    "        self.e /= t\n",
    "        return self\n",
    "    \n",
    "    def __mul__(self, scalar):\n",
    "        return Vec3(self.x*scalar, self.y*scalar, self.z*scalar)\n",
    "\n",
    "    def length(self):\n",
    "        return np.linalg.norm(self.e)\n",
    "\n",
    "    def length_squared(self):\n",
    "        return np.dot(self.e, self.e)\n",
    "\n",
    "    def near_zero(self):\n",
    "        s = 1e-8\n",
    "        return (np.abs(self.e[0]) < s) and (np.abs(self.e[1]) < s) and (np.abs(self.e[2]) < s)\n",
    "\n",
    "    @staticmethod\n",
    "    def random():\n",
    "        return Vec3(np.random.random(), np.random.random(), np.random.random())\n",
    "\n",
    "    @staticmethod\n",
    "    def random_range(min, max):\n",
    "        return Vec3(np.random.uniform(min, max), np.random.uniform(min, max), np.random.uniform(min, max))\n",
    "\n",
    "# Utility Functions\n",
    "def random_in_unit_disk():\n",
    "    while True:\n",
    "        p = Vec3(np.random.uniform(-1,1), np.random.uniform(-1,1), 0)\n",
    "        if p.length_squared() < 1:\n",
    "            return p\n",
    "\n",
    "def random_in_unit_sphere():\n",
    "    while True:\n",
    "        p = Vec3.random_range(-1, 1)\n",
    "        if p.length_squared() < 1:\n",
    "            return p\n",
    "\n",
    "def random_unit_vector():\n",
    "    return unit_vector(random_in_unit_sphere())\n",
    "\n",
    "def random_on_hemisphere(normal):\n",
    "    on_unit_sphere = random_unit_vector()\n",
    "    if dot(on_unit_sphere, normal) > 0.0:\n",
    "        return on_unit_sphere\n",
    "    else:\n",
    "        return -on_unit_sphere\n",
    "\n",
    "def reflect(v, n):\n",
    "    return v - 2 * dot(v, n) * n\n",
    "\n",
    "def refract(uv, n, etai_over_etat):\n",
    "    cos_theta = min(dot(-uv, n), 1.0)\n",
    "    r_out_perp = etai_over_etat * (uv + cos_theta * n)\n",
    "    r_out_parallel = -np.sqrt(np.abs(1.0 - r_out_perp.length_squared())) * n\n",
    "    return r_out_perp + r_out_parallel\n",
    "\n",
    "def dot(u, v):\n",
    "    return np.dot(u.e, v.e)\n",
    "\n",
    "def cross(u, v):\n",
    "    return Vec3(*np.cross(u.e, v.e))\n",
    "\n",
    "def unit_vector(v):\n",
    "    return v / v.length()\n",
    "\n",
    "# point3 is an alias for vec3\n",
    "Point3 = Vec3\n",
    "\n",
    "# Overloaded Operators\n",
    "def add(u, v):\n",
    "    return Vec3(u.e[0] + v.e[0], u.e[1] + v.e[1], u.e[2] + v.e[2])\n",
    "\n",
    "def sub(u, v):\n",
    "    return Vec3(u.e[0] - v.e[0], u.e[1] - v.e[1], u.e[2] - v.e[2])\n",
    "\n",
    "def mul(u, v):\n",
    "    if isinstance(v, Vec3):\n",
    "        return Vec3(u.e[0] * v.e[0], u.e[1] * v.e[1], u.e[2] * v.e[2])\n",
    "    elif isinstance(v, (int, float)):\n",
    "        return Vec3(u.e[0] * v, u.e[1] * v, u.e[2] * v)\n",
    "\n",
    "def truediv(v, t):\n",
    "    return Vec3(v.e[0] / t, v.e[1] / t, v.e[2] / t)\n"
   ]
  },
  {
   "cell_type": "markdown",
   "metadata": {},
   "source": [
    "## 4. Rays, a simple camera, and background"
   ]
  },
  {
   "cell_type": "markdown",
   "metadata": {},
   "source": [
    "### 4.1 The ray class\n",
    "\n",
    "A direct translation of the C++ one. We add some useful methods to get/set a ray subset and get the number of rays."
   ]
  },
  {
   "cell_type": "code",
   "execution_count": null,
   "metadata": {},
   "outputs": [],
   "source": [
    "\"\"\"\n",
    "class Ray:\n",
    "    def __init__(self, origin, direction):\n",
    "        self.origin = origin\n",
    "        self.direction = direction\n",
    "\n",
    "    def at(self, t):\n",
    "        return self.origin + self.direction*t\n",
    "    \n",
    "    def __getitem__(self, idx):\n",
    "        return Ray(self.origin[idx], self.direction[idx])\n",
    "\n",
    "    def __setitem__(self, idx, other):\n",
    "        self.origin[idx] = other.origin\n",
    "        self.direction[idx] = other.direction\n",
    "    \n",
    "    def __len__(self):\n",
    "        return self.origin.x.size\n",
    "\"\"\"\n",
    "class Ray:\n",
    "    def __init__(self, origin, direction):\n",
    "        self.orig = origin\n",
    "        self.dir = direction\n",
    "\n",
    "    def origin(self):\n",
    "        return self.orig\n",
    "\n",
    "    def direction(self):\n",
    "        return self.dir\n",
    "\n",
    "    def at(self, t):\n",
    "        return self.orig + t * self.dir"
   ]
  }
 ],
 "metadata": {
  "kernelspec": {
   "display_name": "elementsProject",
   "language": "python",
   "name": "python3"
  },
  "language_info": {
   "codemirror_mode": {
    "name": "ipython",
    "version": 3
   },
   "file_extension": ".py",
   "mimetype": "text/x-python",
   "name": "python",
   "nbconvert_exporter": "python",
   "pygments_lexer": "ipython3",
   "version": "3.8.18"
  }
 },
 "nbformat": 4,
 "nbformat_minor": 2
}
